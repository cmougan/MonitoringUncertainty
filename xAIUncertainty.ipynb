{
 "cells": [
  {
   "cell_type": "code",
   "execution_count": 1,
   "metadata": {
    "ExecuteTime": {
     "end_time": "2021-08-30T22:00:05.003534Z",
     "start_time": "2021-08-30T22:00:04.991198Z"
    }
   },
   "outputs": [
    {
     "data": {
      "application/javascript": [
       "utils.load_extension(\"execute_time/ExecuteTime\")\n"
      ],
      "text/plain": [
       "<IPython.core.display.Javascript object>"
      ]
     },
     "metadata": {},
     "output_type": "display_data"
    }
   ],
   "source": [
    "%%javascript\n",
    "utils.load_extension(\"execute_time/ExecuteTime\")"
   ]
  },
  {
   "cell_type": "code",
   "execution_count": 2,
   "metadata": {
    "ExecuteTime": {
     "end_time": "2021-08-30T22:00:07.691795Z",
     "start_time": "2021-08-30T22:00:05.008327Z"
    }
   },
   "outputs": [],
   "source": [
    "# Import candidate models\n",
    "from doubt import Boot, QuantileRegressor, QuantileRegressionForest\n",
    "from sklearn.linear_model import (\n",
    "    LinearRegression,\n",
    "    PoissonRegressor,\n",
    "    GammaRegressor,\n",
    "    HuberRegressor,\n",
    ")\n",
    "from sklearn.ensemble import RandomForestRegressor\n",
    "from sklearn.svm import LinearSVR\n",
    "from sklearn.neural_network import MLPRegressor\n",
    "from xgboost import XGBRegressor\n",
    "\n",
    "# Import datasets\n",
    "from doubt.datasets import (\n",
    "    Airfoil,\n",
    "    Blog,\n",
    "    Concrete,\n",
    "    CPU,\n",
    "    FacebookComments,\n",
    "    FishBioconcentration,\n",
    "    FishToxicity,\n",
    "    ForestFire,\n",
    "    NewTaipeiHousing,\n",
    "    PowerPlant,\n",
    "    Protein,\n",
    "    Servo,\n",
    "    SpaceShuttle,\n",
    "    Yacht,\n",
    ")\n",
    "\n",
    "# Import external libraries\n",
    "import pandas as pd\n",
    "import numpy as np\n",
    "from tqdm.auto import tqdm, trange\n",
    "from scipy.stats import ks_2samp, entropy, kruskal\n",
    "import matplotlib.pyplot as plt\n",
    "\n",
    "plt.style.use(\"ggplot\")\n",
    "from sklearn.preprocessing import StandardScaler\n",
    "from sklearn.metrics import mean_squared_error\n",
    "import warnings\n",
    "from collections import defaultdict\n",
    "import seaborn as sns\n",
    "\n",
    "sns.set_theme(style=\"whitegrid\")\n",
    "import shap\n",
    "\n",
    "# Import internal classes\n",
    "from distributions import DistributionShift\n",
    "from src.psi import psi"
   ]
  },
  {
   "cell_type": "code",
   "execution_count": 3,
   "metadata": {
    "ExecuteTime": {
     "end_time": "2021-08-30T22:00:07.825739Z",
     "start_time": "2021-08-30T22:00:07.695059Z"
    }
   },
   "outputs": [
    {
     "name": "stdout",
     "output_type": "stream",
     "text": [
      "LICENSE.md   dev_in.csv   dev_out.csv  train.csv\r\n"
     ]
    }
   ],
   "source": [
    "ls data"
   ]
  },
  {
   "cell_type": "code",
   "execution_count": 4,
   "metadata": {
    "ExecuteTime": {
     "end_time": "2021-08-30T22:00:08.326132Z",
     "start_time": "2021-08-30T22:00:07.829365Z"
    }
   },
   "outputs": [],
   "source": [
    "train = pd.read_csv(\"data/train.csv\", nrows=10_000)\n",
    "test = pd.read_csv(\"data/dev_out.csv\", nrows=10_000)"
   ]
  },
  {
   "cell_type": "raw",
   "metadata": {},
   "source": [
    "%%time\n",
    "print(sum(1 for line in open('data/train.csv')))\n",
    "print(sum(1 for line in open('data/dev_in.csv')))\n",
    "print(sum(1 for line in open('data/dev_out.csv')))"
   ]
  },
  {
   "cell_type": "code",
   "execution_count": 5,
   "metadata": {
    "ExecuteTime": {
     "end_time": "2021-08-30T22:00:08.337979Z",
     "start_time": "2021-08-30T22:00:08.328540Z"
    }
   },
   "outputs": [],
   "source": [
    "cols = [\n",
    "    \"fact_time\",\n",
    "    \"fact_latitude\",\n",
    "    \"fact_longitude\",\n",
    "    \"fact_temperature\",\n",
    "    \"fact_cwsm_class\",\n",
    "    \"climate\",\n",
    "]"
   ]
  },
  {
   "cell_type": "code",
   "execution_count": 6,
   "metadata": {
    "ExecuteTime": {
     "end_time": "2021-08-30T22:00:08.382482Z",
     "start_time": "2021-08-30T22:00:08.341907Z"
    }
   },
   "outputs": [],
   "source": [
    "X_tr = train.drop(columns=cols).fillna(-1)\n",
    "y_tr = train.fact_temperature\n",
    "\n",
    "X_te = test.drop(columns=cols).fillna(-1)\n",
    "y_te = test.fact_temperature"
   ]
  },
  {
   "cell_type": "code",
   "execution_count": 20,
   "metadata": {
    "ExecuteTime": {
     "end_time": "2021-09-01T14:19:39.050431Z",
     "start_time": "2021-09-01T14:19:38.784925Z"
    }
   },
   "outputs": [
    {
     "data": {
      "text/html": [
       "<div>\n",
       "<style scoped>\n",
       "    .dataframe tbody tr th:only-of-type {\n",
       "        vertical-align: middle;\n",
       "    }\n",
       "\n",
       "    .dataframe tbody tr th {\n",
       "        vertical-align: top;\n",
       "    }\n",
       "\n",
       "    .dataframe thead th {\n",
       "        text-align: right;\n",
       "    }\n",
       "</style>\n",
       "<table border=\"1\" class=\"dataframe\">\n",
       "  <thead>\n",
       "    <tr style=\"text-align: right;\">\n",
       "      <th></th>\n",
       "      <th>topography_bathymetry</th>\n",
       "      <th>sun_elevation</th>\n",
       "      <th>climate_temperature</th>\n",
       "      <th>climate_pressure</th>\n",
       "      <th>cmc_0_0_0_1000</th>\n",
       "      <th>cmc_0_0_0_2_grad</th>\n",
       "      <th>cmc_0_0_0_2_interpolated</th>\n",
       "      <th>cmc_0_0_0_2_next</th>\n",
       "      <th>cmc_0_0_0_2</th>\n",
       "      <th>cmc_0_0_0_500</th>\n",
       "      <th>...</th>\n",
       "      <th>cmc_0_1_66_0_grad</th>\n",
       "      <th>cmc_0_1_66_0_next</th>\n",
       "      <th>cmc_0_1_67_0_grad</th>\n",
       "      <th>cmc_0_1_67_0_next</th>\n",
       "      <th>cmc_0_1_68_0_grad</th>\n",
       "      <th>cmc_0_1_68_0_next</th>\n",
       "      <th>gfs_2m_dewpoint_grad</th>\n",
       "      <th>gfs_2m_dewpoint_next</th>\n",
       "      <th>gfs_total_clouds_cover_low_grad</th>\n",
       "      <th>gfs_total_clouds_cover_low_next</th>\n",
       "    </tr>\n",
       "  </thead>\n",
       "  <tbody>\n",
       "    <tr>\n",
       "      <th>0</th>\n",
       "      <td>127.0</td>\n",
       "      <td>-17.526443</td>\n",
       "      <td>14.613571</td>\n",
       "      <td>754.263405</td>\n",
       "      <td>282.702881</td>\n",
       "      <td>6.684790</td>\n",
       "      <td>276.300439</td>\n",
       "      <td>282.985229</td>\n",
       "      <td>276.300439</td>\n",
       "      <td>262.333789</td>\n",
       "      <td>...</td>\n",
       "      <td>0.0</td>\n",
       "      <td>0.000000</td>\n",
       "      <td>0.0</td>\n",
       "      <td>0.000000</td>\n",
       "      <td>0.0</td>\n",
       "      <td>0.0</td>\n",
       "      <td>-2.600006</td>\n",
       "      <td>-2.750006</td>\n",
       "      <td>0.0</td>\n",
       "      <td>0.0</td>\n",
       "    </tr>\n",
       "    <tr>\n",
       "      <th>1</th>\n",
       "      <td>297.0</td>\n",
       "      <td>41.531032</td>\n",
       "      <td>26.992143</td>\n",
       "      <td>733.117168</td>\n",
       "      <td>305.860669</td>\n",
       "      <td>-1.361548</td>\n",
       "      <td>303.629541</td>\n",
       "      <td>302.267993</td>\n",
       "      <td>303.629541</td>\n",
       "      <td>267.178882</td>\n",
       "      <td>...</td>\n",
       "      <td>0.0</td>\n",
       "      <td>0.000000</td>\n",
       "      <td>0.0</td>\n",
       "      <td>0.000000</td>\n",
       "      <td>0.0</td>\n",
       "      <td>0.0</td>\n",
       "      <td>-0.600006</td>\n",
       "      <td>17.950006</td>\n",
       "      <td>-12.0</td>\n",
       "      <td>11.0</td>\n",
       "    </tr>\n",
       "    <tr>\n",
       "      <th>2</th>\n",
       "      <td>-1.0</td>\n",
       "      <td>43.916531</td>\n",
       "      <td>18.842143</td>\n",
       "      <td>761.571076</td>\n",
       "      <td>294.469702</td>\n",
       "      <td>0.282837</td>\n",
       "      <td>295.153361</td>\n",
       "      <td>295.341919</td>\n",
       "      <td>295.059082</td>\n",
       "      <td>268.584375</td>\n",
       "      <td>...</td>\n",
       "      <td>0.0</td>\n",
       "      <td>0.000000</td>\n",
       "      <td>0.0</td>\n",
       "      <td>0.000000</td>\n",
       "      <td>0.0</td>\n",
       "      <td>0.0</td>\n",
       "      <td>-0.233978</td>\n",
       "      <td>21.450006</td>\n",
       "      <td>1.0</td>\n",
       "      <td>8.0</td>\n",
       "    </tr>\n",
       "    <tr>\n",
       "      <th>3</th>\n",
       "      <td>193.0</td>\n",
       "      <td>40.240955</td>\n",
       "      <td>8.303571</td>\n",
       "      <td>747.524910</td>\n",
       "      <td>295.118774</td>\n",
       "      <td>1.091162</td>\n",
       "      <td>296.376611</td>\n",
       "      <td>297.467773</td>\n",
       "      <td>296.376611</td>\n",
       "      <td>262.566675</td>\n",
       "      <td>...</td>\n",
       "      <td>0.0</td>\n",
       "      <td>0.000000</td>\n",
       "      <td>0.0</td>\n",
       "      <td>0.000000</td>\n",
       "      <td>0.0</td>\n",
       "      <td>0.0</td>\n",
       "      <td>0.059448</td>\n",
       "      <td>16.150018</td>\n",
       "      <td>-58.0</td>\n",
       "      <td>41.0</td>\n",
       "    </tr>\n",
       "    <tr>\n",
       "      <th>4</th>\n",
       "      <td>90.0</td>\n",
       "      <td>30.394660</td>\n",
       "      <td>6.451429</td>\n",
       "      <td>753.168113</td>\n",
       "      <td>281.233203</td>\n",
       "      <td>-1.461133</td>\n",
       "      <td>282.810181</td>\n",
       "      <td>281.349048</td>\n",
       "      <td>282.810181</td>\n",
       "      <td>242.905981</td>\n",
       "      <td>...</td>\n",
       "      <td>0.0</td>\n",
       "      <td>0.000000</td>\n",
       "      <td>0.0</td>\n",
       "      <td>0.000000</td>\n",
       "      <td>0.0</td>\n",
       "      <td>0.0</td>\n",
       "      <td>0.400024</td>\n",
       "      <td>3.150018</td>\n",
       "      <td>18.0</td>\n",
       "      <td>92.0</td>\n",
       "    </tr>\n",
       "    <tr>\n",
       "      <th>...</th>\n",
       "      <td>...</td>\n",
       "      <td>...</td>\n",
       "      <td>...</td>\n",
       "      <td>...</td>\n",
       "      <td>...</td>\n",
       "      <td>...</td>\n",
       "      <td>...</td>\n",
       "      <td>...</td>\n",
       "      <td>...</td>\n",
       "      <td>...</td>\n",
       "      <td>...</td>\n",
       "      <td>...</td>\n",
       "      <td>...</td>\n",
       "      <td>...</td>\n",
       "      <td>...</td>\n",
       "      <td>...</td>\n",
       "      <td>...</td>\n",
       "      <td>...</td>\n",
       "      <td>...</td>\n",
       "      <td>...</td>\n",
       "      <td>...</td>\n",
       "    </tr>\n",
       "    <tr>\n",
       "      <th>9995</th>\n",
       "      <td>80.0</td>\n",
       "      <td>-53.813531</td>\n",
       "      <td>5.315000</td>\n",
       "      <td>760.867358</td>\n",
       "      <td>278.786377</td>\n",
       "      <td>-0.116919</td>\n",
       "      <td>277.975301</td>\n",
       "      <td>277.936328</td>\n",
       "      <td>278.053247</td>\n",
       "      <td>246.370508</td>\n",
       "      <td>...</td>\n",
       "      <td>0.0</td>\n",
       "      <td>0.001520</td>\n",
       "      <td>0.0</td>\n",
       "      <td>0.002502</td>\n",
       "      <td>0.0</td>\n",
       "      <td>0.0</td>\n",
       "      <td>0.340332</td>\n",
       "      <td>-3.631964</td>\n",
       "      <td>0.0</td>\n",
       "      <td>1.0</td>\n",
       "    </tr>\n",
       "    <tr>\n",
       "      <th>9996</th>\n",
       "      <td>-30.0</td>\n",
       "      <td>-62.716203</td>\n",
       "      <td>9.308571</td>\n",
       "      <td>762.043020</td>\n",
       "      <td>282.014185</td>\n",
       "      <td>0.231592</td>\n",
       "      <td>280.577344</td>\n",
       "      <td>280.731738</td>\n",
       "      <td>280.500146</td>\n",
       "      <td>253.155371</td>\n",
       "      <td>...</td>\n",
       "      <td>0.0</td>\n",
       "      <td>0.000040</td>\n",
       "      <td>0.0</td>\n",
       "      <td>0.000000</td>\n",
       "      <td>0.0</td>\n",
       "      <td>0.0</td>\n",
       "      <td>-1.643188</td>\n",
       "      <td>-5.684332</td>\n",
       "      <td>0.0</td>\n",
       "      <td>0.0</td>\n",
       "    </tr>\n",
       "    <tr>\n",
       "      <th>9997</th>\n",
       "      <td>268.0</td>\n",
       "      <td>-34.256935</td>\n",
       "      <td>21.209286</td>\n",
       "      <td>739.258300</td>\n",
       "      <td>298.904712</td>\n",
       "      <td>0.325647</td>\n",
       "      <td>297.269678</td>\n",
       "      <td>297.595325</td>\n",
       "      <td>297.269678</td>\n",
       "      <td>268.818506</td>\n",
       "      <td>...</td>\n",
       "      <td>0.0</td>\n",
       "      <td>0.000000</td>\n",
       "      <td>0.0</td>\n",
       "      <td>0.000000</td>\n",
       "      <td>0.0</td>\n",
       "      <td>0.0</td>\n",
       "      <td>0.133911</td>\n",
       "      <td>23.383905</td>\n",
       "      <td>-16.0</td>\n",
       "      <td>5.0</td>\n",
       "    </tr>\n",
       "    <tr>\n",
       "      <th>9998</th>\n",
       "      <td>20.0</td>\n",
       "      <td>78.041237</td>\n",
       "      <td>22.745714</td>\n",
       "      <td>757.114103</td>\n",
       "      <td>295.474219</td>\n",
       "      <td>0.491724</td>\n",
       "      <td>296.347095</td>\n",
       "      <td>296.838818</td>\n",
       "      <td>296.347095</td>\n",
       "      <td>264.911304</td>\n",
       "      <td>...</td>\n",
       "      <td>0.0</td>\n",
       "      <td>0.000000</td>\n",
       "      <td>0.0</td>\n",
       "      <td>0.000000</td>\n",
       "      <td>0.0</td>\n",
       "      <td>0.0</td>\n",
       "      <td>-0.557434</td>\n",
       "      <td>16.032312</td>\n",
       "      <td>0.0</td>\n",
       "      <td>0.0</td>\n",
       "    </tr>\n",
       "    <tr>\n",
       "      <th>9999</th>\n",
       "      <td>1960.0</td>\n",
       "      <td>-17.672047</td>\n",
       "      <td>-7.299286</td>\n",
       "      <td>573.512151</td>\n",
       "      <td>263.707446</td>\n",
       "      <td>0.229126</td>\n",
       "      <td>256.466846</td>\n",
       "      <td>256.695972</td>\n",
       "      <td>256.466846</td>\n",
       "      <td>244.537402</td>\n",
       "      <td>...</td>\n",
       "      <td>0.0</td>\n",
       "      <td>0.389002</td>\n",
       "      <td>0.0</td>\n",
       "      <td>0.000000</td>\n",
       "      <td>0.0</td>\n",
       "      <td>0.0</td>\n",
       "      <td>0.199997</td>\n",
       "      <td>-23.049994</td>\n",
       "      <td>0.0</td>\n",
       "      <td>0.0</td>\n",
       "    </tr>\n",
       "  </tbody>\n",
       "</table>\n",
       "<p>10000 rows × 123 columns</p>\n",
       "</div>"
      ],
      "text/plain": [
       "      topography_bathymetry  sun_elevation  climate_temperature  \\\n",
       "0                     127.0     -17.526443            14.613571   \n",
       "1                     297.0      41.531032            26.992143   \n",
       "2                      -1.0      43.916531            18.842143   \n",
       "3                     193.0      40.240955             8.303571   \n",
       "4                      90.0      30.394660             6.451429   \n",
       "...                     ...            ...                  ...   \n",
       "9995                   80.0     -53.813531             5.315000   \n",
       "9996                  -30.0     -62.716203             9.308571   \n",
       "9997                  268.0     -34.256935            21.209286   \n",
       "9998                   20.0      78.041237            22.745714   \n",
       "9999                 1960.0     -17.672047            -7.299286   \n",
       "\n",
       "      climate_pressure  cmc_0_0_0_1000  cmc_0_0_0_2_grad  \\\n",
       "0           754.263405      282.702881          6.684790   \n",
       "1           733.117168      305.860669         -1.361548   \n",
       "2           761.571076      294.469702          0.282837   \n",
       "3           747.524910      295.118774          1.091162   \n",
       "4           753.168113      281.233203         -1.461133   \n",
       "...                ...             ...               ...   \n",
       "9995        760.867358      278.786377         -0.116919   \n",
       "9996        762.043020      282.014185          0.231592   \n",
       "9997        739.258300      298.904712          0.325647   \n",
       "9998        757.114103      295.474219          0.491724   \n",
       "9999        573.512151      263.707446          0.229126   \n",
       "\n",
       "      cmc_0_0_0_2_interpolated  cmc_0_0_0_2_next  cmc_0_0_0_2  cmc_0_0_0_500  \\\n",
       "0                   276.300439        282.985229   276.300439     262.333789   \n",
       "1                   303.629541        302.267993   303.629541     267.178882   \n",
       "2                   295.153361        295.341919   295.059082     268.584375   \n",
       "3                   296.376611        297.467773   296.376611     262.566675   \n",
       "4                   282.810181        281.349048   282.810181     242.905981   \n",
       "...                        ...               ...          ...            ...   \n",
       "9995                277.975301        277.936328   278.053247     246.370508   \n",
       "9996                280.577344        280.731738   280.500146     253.155371   \n",
       "9997                297.269678        297.595325   297.269678     268.818506   \n",
       "9998                296.347095        296.838818   296.347095     264.911304   \n",
       "9999                256.466846        256.695972   256.466846     244.537402   \n",
       "\n",
       "      ...  cmc_0_1_66_0_grad  cmc_0_1_66_0_next  cmc_0_1_67_0_grad  \\\n",
       "0     ...                0.0           0.000000                0.0   \n",
       "1     ...                0.0           0.000000                0.0   \n",
       "2     ...                0.0           0.000000                0.0   \n",
       "3     ...                0.0           0.000000                0.0   \n",
       "4     ...                0.0           0.000000                0.0   \n",
       "...   ...                ...                ...                ...   \n",
       "9995  ...                0.0           0.001520                0.0   \n",
       "9996  ...                0.0           0.000040                0.0   \n",
       "9997  ...                0.0           0.000000                0.0   \n",
       "9998  ...                0.0           0.000000                0.0   \n",
       "9999  ...                0.0           0.389002                0.0   \n",
       "\n",
       "      cmc_0_1_67_0_next  cmc_0_1_68_0_grad  cmc_0_1_68_0_next  \\\n",
       "0              0.000000                0.0                0.0   \n",
       "1              0.000000                0.0                0.0   \n",
       "2              0.000000                0.0                0.0   \n",
       "3              0.000000                0.0                0.0   \n",
       "4              0.000000                0.0                0.0   \n",
       "...                 ...                ...                ...   \n",
       "9995           0.002502                0.0                0.0   \n",
       "9996           0.000000                0.0                0.0   \n",
       "9997           0.000000                0.0                0.0   \n",
       "9998           0.000000                0.0                0.0   \n",
       "9999           0.000000                0.0                0.0   \n",
       "\n",
       "      gfs_2m_dewpoint_grad  gfs_2m_dewpoint_next  \\\n",
       "0                -2.600006             -2.750006   \n",
       "1                -0.600006             17.950006   \n",
       "2                -0.233978             21.450006   \n",
       "3                 0.059448             16.150018   \n",
       "4                 0.400024              3.150018   \n",
       "...                    ...                   ...   \n",
       "9995              0.340332             -3.631964   \n",
       "9996             -1.643188             -5.684332   \n",
       "9997              0.133911             23.383905   \n",
       "9998             -0.557434             16.032312   \n",
       "9999              0.199997            -23.049994   \n",
       "\n",
       "      gfs_total_clouds_cover_low_grad  gfs_total_clouds_cover_low_next  \n",
       "0                                 0.0                              0.0  \n",
       "1                               -12.0                             11.0  \n",
       "2                                 1.0                              8.0  \n",
       "3                               -58.0                             41.0  \n",
       "4                                18.0                             92.0  \n",
       "...                               ...                              ...  \n",
       "9995                              0.0                              1.0  \n",
       "9996                              0.0                              0.0  \n",
       "9997                            -16.0                              5.0  \n",
       "9998                              0.0                              0.0  \n",
       "9999                              0.0                              0.0  \n",
       "\n",
       "[10000 rows x 123 columns]"
      ]
     },
     "execution_count": 20,
     "metadata": {},
     "output_type": "execute_result"
    }
   ],
   "source": [
    "X_tr"
   ]
  },
  {
   "cell_type": "code",
   "execution_count": 21,
   "metadata": {
    "ExecuteTime": {
     "end_time": "2021-09-01T14:21:56.941128Z",
     "start_time": "2021-09-01T14:19:39.078699Z"
    },
    "scrolled": true
   },
   "outputs": [
    {
     "data": {
      "text/plain": [
       "Boot(model=XGBRegressor, random_seed=None)"
      ]
     },
     "execution_count": 21,
     "metadata": {},
     "output_type": "execute_result"
    }
   ],
   "source": [
    "standard_scaler = StandardScaler()\n",
    "\n",
    "# Scale the dataset\n",
    "# X_tr = standard_scaler.fit_transform(X_tr)\n",
    "# X_te = standard_scaler.transform(X_te)\n",
    "\n",
    "\n",
    "# Fit the regressor\n",
    "regressor = Boot(XGBRegressor(max_depth=5, n_estimators=50))\n",
    "regressor.fit(X_tr, y_tr, n_boots=20)"
   ]
  },
  {
   "cell_type": "code",
   "execution_count": 8,
   "metadata": {
    "ExecuteTime": {
     "end_time": "2021-08-30T22:06:17.905728Z",
     "start_time": "2021-08-30T22:01:12.273971Z"
    }
   },
   "outputs": [],
   "source": [
    "# Train preds\n",
    "predictions, intervals = regressor.predict(X_tr, uncertainty=0.05)"
   ]
  },
  {
   "cell_type": "code",
   "execution_count": 9,
   "metadata": {
    "ExecuteTime": {
     "end_time": "2021-08-30T22:06:17.941741Z",
     "start_time": "2021-08-30T22:06:17.910296Z"
    }
   },
   "outputs": [],
   "source": [
    "values = {}\n",
    "values[\"uncertainty_train\"] = intervals[:, 1] - intervals[:, 0]\n",
    "values[\"mse_train\"] = (predictions - y_tr) ** 2"
   ]
  },
  {
   "cell_type": "code",
   "execution_count": 10,
   "metadata": {
    "ExecuteTime": {
     "end_time": "2021-08-30T22:12:51.569683Z",
     "start_time": "2021-08-30T22:06:17.944353Z"
    }
   },
   "outputs": [],
   "source": [
    "# Test preds\n",
    "predictions, intervals = regressor.predict(X_te, uncertainty=0.05)\n",
    "values[\"uncertainty_test\"] = intervals[:, 1] - intervals[:, 0]\n",
    "values[\"mse_test\"] = (predictions - y_te) ** 2\n",
    "\n",
    "\n",
    "d = pd.DataFrame(values)"
   ]
  },
  {
   "cell_type": "code",
   "execution_count": 11,
   "metadata": {
    "ExecuteTime": {
     "end_time": "2021-08-30T22:12:51.606840Z",
     "start_time": "2021-08-30T22:12:51.574485Z"
    },
    "scrolled": true
   },
   "outputs": [],
   "source": [
    "sc = StandardScaler()\n",
    "sc.fit(d[\"uncertainty_train\"].values.reshape(-1, 1))\n",
    "d[\"uncertainty_train\"] = sc.transform(d[\"uncertainty_train\"].values.reshape(-1, 1))\n",
    "d[\"uncertainty_test\"] = sc.transform(d[\"uncertainty_test\"].values.reshape(-1, 1))\n",
    "\n",
    "sc = StandardScaler()\n",
    "sc.fit(d[\"mse_train\"].values.reshape(-1, 1))\n",
    "d[\"mse_train\"] = sc.transform(d[\"mse_train\"].values.reshape(-1, 1))\n",
    "d[\"mse_test\"] = sc.transform(d[\"mse_test\"].values.reshape(-1, 1))"
   ]
  },
  {
   "cell_type": "code",
   "execution_count": 12,
   "metadata": {
    "ExecuteTime": {
     "end_time": "2021-08-30T22:12:51.957079Z",
     "start_time": "2021-08-30T22:12:51.658372Z"
    }
   },
   "outputs": [
    {
     "data": {
      "text/plain": [
       "<AxesSubplot:>"
      ]
     },
     "execution_count": 12,
     "metadata": {},
     "output_type": "execute_result"
    },
    {
     "data": {
      "image/png": "[encoded data removed]",
      "text/plain": [
       "<Figure size 432x288 with 1 Axes>"
      ]
     },
     "metadata": {},
     "output_type": "display_data"
    }
   ],
   "source": [
    "sns.violinplot(data=d.drop(columns=[\"mse_train\", \"mse_test\"]))"
   ]
  },
  {
   "cell_type": "code",
   "execution_count": 13,
   "metadata": {
    "ExecuteTime": {
     "end_time": "2021-08-30T22:12:52.258610Z",
     "start_time": "2021-08-30T22:12:51.968895Z"
    },
    "scrolled": true
   },
   "outputs": [
    {
     "data": {
      "text/plain": [
       "<AxesSubplot:>"
      ]
     },
     "execution_count": 13,
     "metadata": {},
     "output_type": "execute_result"
    },
    {
     "data": {
      "image/png": "[encoded data removed]",
      "text/plain": [
       "<Figure size 432x288 with 1 Axes>"
      ]
     },
     "metadata": {},
     "output_type": "display_data"
    }
   ],
   "source": [
    "sns.violinplot(data=d.drop(columns=[\"uncertainty_train\", \"uncertainty_test\"]))"
   ]
  },
  {
   "cell_type": "code",
   "execution_count": 14,
   "metadata": {
    "ExecuteTime": {
     "end_time": "2021-08-30T22:12:52.318506Z",
     "start_time": "2021-08-30T22:12:52.260589Z"
    }
   },
   "outputs": [
    {
     "data": {
      "text/html": [
       "<div>\n",
       "<style scoped>\n",
       "    .dataframe tbody tr th:only-of-type {\n",
       "        vertical-align: middle;\n",
       "    }\n",
       "\n",
       "    .dataframe tbody tr th {\n",
       "        vertical-align: top;\n",
       "    }\n",
       "\n",
       "    .dataframe thead th {\n",
       "        text-align: right;\n",
       "    }\n",
       "</style>\n",
       "<table border=\"1\" class=\"dataframe\">\n",
       "  <thead>\n",
       "    <tr style=\"text-align: right;\">\n",
       "      <th></th>\n",
       "      <th>uncertainty_train</th>\n",
       "      <th>mse_train</th>\n",
       "      <th>uncertainty_test</th>\n",
       "      <th>mse_test</th>\n",
       "    </tr>\n",
       "  </thead>\n",
       "  <tbody>\n",
       "    <tr>\n",
       "      <th>count</th>\n",
       "      <td>1.000000e+04</td>\n",
       "      <td>1.000000e+04</td>\n",
       "      <td>10000.000000</td>\n",
       "      <td>10000.000000</td>\n",
       "    </tr>\n",
       "    <tr>\n",
       "      <th>mean</th>\n",
       "      <td>-1.017497e-15</td>\n",
       "      <td>2.113865e-17</td>\n",
       "      <td>0.315342</td>\n",
       "      <td>0.885752</td>\n",
       "    </tr>\n",
       "    <tr>\n",
       "      <th>std</th>\n",
       "      <td>1.000050e+00</td>\n",
       "      <td>1.000050e+00</td>\n",
       "      <td>1.503154</td>\n",
       "      <td>3.147273</td>\n",
       "    </tr>\n",
       "    <tr>\n",
       "      <th>min</th>\n",
       "      <td>-7.134180e-01</td>\n",
       "      <td>-5.642019e-01</td>\n",
       "      <td>-0.635855</td>\n",
       "      <td>-0.564202</td>\n",
       "    </tr>\n",
       "    <tr>\n",
       "      <th>25%</th>\n",
       "      <td>-4.044957e-01</td>\n",
       "      <td>-5.197172e-01</td>\n",
       "      <td>-0.268882</td>\n",
       "      <td>-0.468981</td>\n",
       "    </tr>\n",
       "    <tr>\n",
       "      <th>50%</th>\n",
       "      <td>-2.571332e-01</td>\n",
       "      <td>-3.539719e-01</td>\n",
       "      <td>-0.094859</td>\n",
       "      <td>-0.108551</td>\n",
       "    </tr>\n",
       "    <tr>\n",
       "      <th>75%</th>\n",
       "      <td>2.430870e-02</td>\n",
       "      <td>1.144703e-01</td>\n",
       "      <td>0.258421</td>\n",
       "      <td>0.907741</td>\n",
       "    </tr>\n",
       "    <tr>\n",
       "      <th>max</th>\n",
       "      <td>2.149930e+01</td>\n",
       "      <td>2.854812e+01</td>\n",
       "      <td>21.082673</td>\n",
       "      <td>91.999769</td>\n",
       "    </tr>\n",
       "  </tbody>\n",
       "</table>\n",
       "</div>"
      ],
      "text/plain": [
       "       uncertainty_train     mse_train  uncertainty_test      mse_test\n",
       "count       1.000000e+04  1.000000e+04      10000.000000  10000.000000\n",
       "mean       -1.017497e-15  2.113865e-17          0.315342      0.885752\n",
       "std         1.000050e+00  1.000050e+00          1.503154      3.147273\n",
       "min        -7.134180e-01 -5.642019e-01         -0.635855     -0.564202\n",
       "25%        -4.044957e-01 -5.197172e-01         -0.268882     -0.468981\n",
       "50%        -2.571332e-01 -3.539719e-01         -0.094859     -0.108551\n",
       "75%         2.430870e-02  1.144703e-01          0.258421      0.907741\n",
       "max         2.149930e+01  2.854812e+01         21.082673     91.999769"
      ]
     },
     "execution_count": 14,
     "metadata": {},
     "output_type": "execute_result"
    }
   ],
   "source": [
    "d.describe()"
   ]
  },
  {
   "cell_type": "markdown",
   "metadata": {
    "ExecuteTime": {
     "end_time": "2021-08-14T10:25:50.290196Z",
     "start_time": "2021-08-14T10:25:50.242541Z"
    }
   },
   "source": [
    "## Detecting the source of uncertainty"
   ]
  },
  {
   "cell_type": "code",
   "execution_count": 15,
   "metadata": {
    "ExecuteTime": {
     "end_time": "2021-08-30T22:13:01.573835Z",
     "start_time": "2021-08-30T22:12:52.323316Z"
    }
   },
   "outputs": [
    {
     "data": {
      "text/plain": [
       "XGBRegressor(base_score=0.5, booster='gbtree', colsample_bylevel=1,\n",
       "             colsample_bynode=1, colsample_bytree=1, gamma=0, gpu_id=-1,\n",
       "             importance_type='gain', interaction_constraints='',\n",
       "             learning_rate=0.300000012, max_delta_step=0, max_depth=6,\n",
       "             min_child_weight=1, missing=nan, monotone_constraints='()',\n",
       "             n_estimators=100, n_jobs=4, num_parallel_tree=1, random_state=0,\n",
       "             reg_alpha=0, reg_lambda=1, scale_pos_weight=1, subsample=1,\n",
       "             tree_method='exact', validate_parameters=1, verbosity=None)"
      ]
     },
     "execution_count": 15,
     "metadata": {},
     "output_type": "execute_result"
    }
   ],
   "source": [
    "reg = XGBRegressor()\n",
    "reg.fit(X_te, d[\"uncertainty_test\"])"
   ]
  },
  {
   "cell_type": "code",
   "execution_count": null,
   "metadata": {},
   "outputs": [],
   "source": []
  },
  {
   "cell_type": "code",
   "execution_count": 16,
   "metadata": {
    "ExecuteTime": {
     "end_time": "2021-08-30T22:13:01.646023Z",
     "start_time": "2021-08-30T22:13:01.578545Z"
    }
   },
   "outputs": [
    {
     "data": {
      "text/plain": [
       "0.012478263416737845"
      ]
     },
     "execution_count": 16,
     "metadata": {},
     "output_type": "execute_result"
    }
   ],
   "source": [
    "mean_squared_error(reg.predict(X_te), d[\"uncertainty_test\"])"
   ]
  },
  {
   "cell_type": "code",
   "execution_count": 17,
   "metadata": {
    "ExecuteTime": {
     "end_time": "2021-08-30T22:13:07.170990Z",
     "start_time": "2021-08-30T22:13:01.657347Z"
    }
   },
   "outputs": [
    {
     "name": "stderr",
     "output_type": "stream",
     "text": [
      "ntree_limit is deprecated, use `iteration_range` or model slicing instead.\n"
     ]
    },
    {
     "data": {
      "image/png": "[encoded data removed]",
      "text/plain": [
       "<Figure size 576x468 with 1 Axes>"
      ]
     },
     "metadata": {},
     "output_type": "display_data"
    }
   ],
   "source": [
    "explainer = shap.Explainer(reg)\n",
    "shap_values = explainer(X_te)\n",
    "\n",
    "# visualize the first prediction's explanation\n",
    "# shap.plots.waterfall(shap_values[0])\n",
    "plt.figure()\n",
    "plt.title(\"Global Shap Values to indentify the source of uncertainty\")\n",
    "shap.plots.bar(shap_values, show=False)\n",
    "plt.savefig(\"experiments/xai/shap.png\")\n",
    "plt.show()"
   ]
  },
  {
   "cell_type": "code",
   "execution_count": 19,
   "metadata": {
    "ExecuteTime": {
     "end_time": "2021-09-01T13:47:01.362228Z",
     "start_time": "2021-09-01T13:46:59.710177Z"
    },
    "scrolled": false
   },
   "outputs": [
    {
     "name": "stderr",
     "output_type": "stream",
     "text": [
      "divide by zero encountered in double_scalars\n"
     ]
    },
    {
     "data": {
      "image/png": "[encoded data removed]",
      "text/plain": [
       "<Figure size 432x288 with 1 Axes>"
      ]
     },
     "metadata": {},
     "output_type": "display_data"
    }
   ],
   "source": [
    "psi_dic = []\n",
    "for c in X_tr.columns:\n",
    "    psi_dic.append([c, psi(X_tr[c], X_te[c]),ks_2samp(X_tr[c], X_te[c]).statistic])\n",
    "\n",
    "\n",
    "\n",
    "psi_dic = pd.DataFrame(psi_dic, columns=[\"column\", \"psi\",'ks'])\n",
    "\n",
    "\n",
    "plt.figure()\n",
    "plt.title('Population Stability Index between train and test set')\n",
    "plt.ylabel('Population Stability Index')\n",
    "keys = psi_dic.sort_values(\"psi\", ascending=False).head(10).column.values\n",
    "values = psi_dic.sort_values(\"psi\", ascending=False).head(10).psi.values\n",
    "\n",
    "plt.bar(keys, values)\n",
    "plt.xticks(rotation=45)\n",
    "plt.savefig('experiments/xai/psi.png')\n",
    "plt.show()\n",
    "\n"
   ]
  },
  {
   "cell_type": "code",
   "execution_count": 22,
   "metadata": {
    "ExecuteTime": {
     "end_time": "2021-09-01T14:25:34.439389Z",
     "start_time": "2021-09-01T14:25:34.371599Z"
    }
   },
   "outputs": [
    {
     "data": {
      "text/html": [
       "<div>\n",
       "<style scoped>\n",
       "    .dataframe tbody tr th:only-of-type {\n",
       "        vertical-align: middle;\n",
       "    }\n",
       "\n",
       "    .dataframe tbody tr th {\n",
       "        vertical-align: top;\n",
       "    }\n",
       "\n",
       "    .dataframe thead th {\n",
       "        text-align: right;\n",
       "    }\n",
       "</style>\n",
       "<table border=\"1\" class=\"dataframe\">\n",
       "  <thead>\n",
       "    <tr style=\"text-align: right;\">\n",
       "      <th></th>\n",
       "      <th>column</th>\n",
       "      <th>psi</th>\n",
       "      <th>ks</th>\n",
       "    </tr>\n",
       "  </thead>\n",
       "  <tbody>\n",
       "    <tr>\n",
       "      <th>0</th>\n",
       "      <td>topography_bathymetry</td>\n",
       "      <td>0.046087</td>\n",
       "      <td>0.2414</td>\n",
       "    </tr>\n",
       "    <tr>\n",
       "      <th>1</th>\n",
       "      <td>sun_elevation</td>\n",
       "      <td>0.760932</td>\n",
       "      <td>0.2285</td>\n",
       "    </tr>\n",
       "    <tr>\n",
       "      <th>2</th>\n",
       "      <td>climate_temperature</td>\n",
       "      <td>1.165915</td>\n",
       "      <td>0.3352</td>\n",
       "    </tr>\n",
       "    <tr>\n",
       "      <th>3</th>\n",
       "      <td>climate_pressure</td>\n",
       "      <td>0.107218</td>\n",
       "      <td>0.2370</td>\n",
       "    </tr>\n",
       "    <tr>\n",
       "      <th>4</th>\n",
       "      <td>cmc_0_0_0_1000</td>\n",
       "      <td>0.722932</td>\n",
       "      <td>0.3267</td>\n",
       "    </tr>\n",
       "    <tr>\n",
       "      <th>...</th>\n",
       "      <td>...</td>\n",
       "      <td>...</td>\n",
       "      <td>...</td>\n",
       "    </tr>\n",
       "    <tr>\n",
       "      <th>118</th>\n",
       "      <td>cmc_0_1_68_0_next</td>\n",
       "      <td>0.010531</td>\n",
       "      <td>0.0201</td>\n",
       "    </tr>\n",
       "    <tr>\n",
       "      <th>119</th>\n",
       "      <td>gfs_2m_dewpoint_grad</td>\n",
       "      <td>0.009917</td>\n",
       "      <td>0.0533</td>\n",
       "    </tr>\n",
       "    <tr>\n",
       "      <th>120</th>\n",
       "      <td>gfs_2m_dewpoint_next</td>\n",
       "      <td>0.889563</td>\n",
       "      <td>0.3372</td>\n",
       "    </tr>\n",
       "    <tr>\n",
       "      <th>121</th>\n",
       "      <td>gfs_total_clouds_cover_low_grad</td>\n",
       "      <td>0.030415</td>\n",
       "      <td>0.0610</td>\n",
       "    </tr>\n",
       "    <tr>\n",
       "      <th>122</th>\n",
       "      <td>gfs_total_clouds_cover_low_next</td>\n",
       "      <td>0.040420</td>\n",
       "      <td>0.0867</td>\n",
       "    </tr>\n",
       "  </tbody>\n",
       "</table>\n",
       "<p>123 rows × 3 columns</p>\n",
       "</div>"
      ],
      "text/plain": [
       "                              column       psi      ks\n",
       "0              topography_bathymetry  0.046087  0.2414\n",
       "1                      sun_elevation  0.760932  0.2285\n",
       "2                climate_temperature  1.165915  0.3352\n",
       "3                   climate_pressure  0.107218  0.2370\n",
       "4                     cmc_0_0_0_1000  0.722932  0.3267\n",
       "..                               ...       ...     ...\n",
       "118                cmc_0_1_68_0_next  0.010531  0.0201\n",
       "119             gfs_2m_dewpoint_grad  0.009917  0.0533\n",
       "120             gfs_2m_dewpoint_next  0.889563  0.3372\n",
       "121  gfs_total_clouds_cover_low_grad  0.030415  0.0610\n",
       "122  gfs_total_clouds_cover_low_next  0.040420  0.0867\n",
       "\n",
       "[123 rows x 3 columns]"
      ]
     },
     "execution_count": 22,
     "metadata": {},
     "output_type": "execute_result"
    }
   ],
   "source": [
    "psi_dic\n"
   ]
  },
  {
   "cell_type": "code",
   "execution_count": null,
   "metadata": {
    "ExecuteTime": {
     "end_time": "2021-08-27T14:07:05.468750Z",
     "start_time": "2021-08-27T14:07:05.336859Z"
    }
   },
   "outputs": [],
   "source": [
    "\n"
   ]
  },
  {
   "cell_type": "code",
   "execution_count": null,
   "metadata": {
    "ExecuteTime": {
     "end_time": "2021-08-30T22:13:07.221761Z",
     "start_time": "2021-08-30T22:00:05.026Z"
    },
    "scrolled": false
   },
   "outputs": [],
   "source": [
    "plt.figure()\n",
    "keys = psi_dic.sort_values(\"ks\", ascending=False).head(10).column.values\n",
    "values = psi_dic.sort_values(\"ks\", ascending=False).head(10).ks.values\n",
    "\n",
    "plt.bar(keys, values)\n",
    "plt.xticks(rotation=45)\n",
    "plt.show()"
   ]
  },
  {
   "cell_type": "code",
   "execution_count": null,
   "metadata": {},
   "outputs": [],
   "source": []
  }
 ],
 "metadata": {
  "kernelspec": {
   "display_name": "uncertainty",
   "language": "python",
   "name": "uncertainty"
  },
  "language_info": {
   "codemirror_mode": {
    "name": "ipython",
    "version": 3
   },
   "file_extension": ".py",
   "mimetype": "text/x-python",
   "name": "python",
   "nbconvert_exporter": "python",
   "pygments_lexer": "ipython3",
   "version": "3.7.10"
  }
 },
 "nbformat": 4,
 "nbformat_minor": 4
}
