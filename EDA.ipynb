{
 "cells": [
  {
   "cell_type": "code",
   "execution_count": 1,
   "metadata": {
    "scrolled": true
   },
   "outputs": [],
   "source": [
    "import pandas as pd\n",
    "from ensemble import StdForestClassifier\n",
    "from category_encoders.m_estimate import MEstimateEncoder\n",
    "from sklearn.model_selection import train_test_split\n",
    "from sklearn.metrics import roc_auc_score,classification_report\n",
    "from sklearn.ensemble import RandomForestClassifier\n",
    "import shap\n",
    "import numpy as np\n",
    "import matplotlib.pyplot as plt\n",
    "from imblearn.under_sampling import RandomUnderSampler"
   ]
  },
  {
   "cell_type": "code",
   "execution_count": 11,
   "metadata": {},
   "outputs": [],
   "source": [
    "df = pd.read_csv('data/train_transaction.csv')"
   ]
  },
  {
   "cell_type": "code",
   "execution_count": 12,
   "metadata": {},
   "outputs": [],
   "source": [
    "df = df.iloc[:, :-300]\n",
    "#df = df.sample(frac=0.1)\n",
    "undersample = RandomUnderSampler(sampling_strategy=0.5)"
   ]
  },
  {
   "cell_type": "code",
   "execution_count": 13,
   "metadata": {},
   "outputs": [],
   "source": [
    "X = df.drop(columns=['TransactionID', 'isFraud', 'TransactionDT'])\n",
    "y = df[['isFraud']]"
   ]
  },
  {
   "cell_type": "code",
   "execution_count": 16,
   "metadata": {},
   "outputs": [],
   "source": [
    "X,y = undersample.fit_resample(X,y)"
   ]
  },
  {
   "cell_type": "code",
   "execution_count": 17,
   "metadata": {},
   "outputs": [],
   "source": [
    "X = X.fillna(-1)"
   ]
  },
  {
   "cell_type": "code",
   "execution_count": 18,
   "metadata": {},
   "outputs": [
    {
     "name": "stderr",
     "output_type": "stream",
     "text": [
      "is_categorical is deprecated and will be removed in a future version.  Use is_categorical_dtype instead\n"
     ]
    }
   ],
   "source": [
    "X = MEstimateEncoder().fit_transform(X,y)"
   ]
  },
  {
   "cell_type": "code",
   "execution_count": 19,
   "metadata": {},
   "outputs": [],
   "source": [
    "X_tr, X_te, y_tr, y_te = train_test_split(X,y,stratify=y,test_size=0.1)"
   ]
  },
  {
   "cell_type": "code",
   "execution_count": 20,
   "metadata": {},
   "outputs": [],
   "source": [
    "rf = RandomForestClassifier(n_estimators= 10)"
   ]
  },
  {
   "cell_type": "code",
   "execution_count": 22,
   "metadata": {
    "scrolled": true
   },
   "outputs": [
    {
     "name": "stderr",
     "output_type": "stream",
     "text": [
      "A column-vector y was passed when a 1d array was expected. Please change the shape of y to (n_samples,), for example using ravel().\n"
     ]
    },
    {
     "name": "stdout",
     "output_type": "stream",
     "text": [
      "CPU times: user 1.04 s, sys: 35.3 ms, total: 1.08 s\n",
      "Wall time: 1.1 s\n"
     ]
    },
    {
     "data": {
      "text/plain": [
       "RandomForestClassifier(n_estimators=10)"
      ]
     },
     "execution_count": 22,
     "metadata": {},
     "output_type": "execute_result"
    }
   ],
   "source": [
    "%%time\n",
    "rf.fit(X_tr,y_tr)"
   ]
  },
  {
   "cell_type": "code",
   "execution_count": 23,
   "metadata": {},
   "outputs": [
    {
     "name": "stdout",
     "output_type": "stream",
     "text": [
      "              precision    recall  f1-score   support\n",
      "\n",
      "           0       0.95      0.88      0.91      4431\n",
      "           1       0.75      0.88      0.81      1768\n",
      "\n",
      "    accuracy                           0.88      6199\n",
      "   macro avg       0.85      0.88      0.86      6199\n",
      "weighted avg       0.89      0.88      0.88      6199\n",
      "\n"
     ]
    }
   ],
   "source": [
    "print(classification_report(rf.predict(X_te),y_te))"
   ]
  },
  {
   "cell_type": "code",
   "execution_count": 24,
   "metadata": {
    "scrolled": false
   },
   "outputs": [
    {
     "name": "stdout",
     "output_type": "stream",
     "text": [
      "Feature ranking:\n",
      "1. feature 0 (0.056065)\n",
      "2. feature 2 (0.046894)\n",
      "3. feature 26 (0.042051)\n",
      "4. feature 14 (0.039157)\n",
      "5. feature 3 (0.038923)\n",
      "6. feature 39 (0.034378)\n",
      "7. feature 27 (0.034223)\n",
      "8. feature 8 (0.031865)\n",
      "9. feature 29 (0.029464)\n",
      "10. feature 13 (0.028162)\n",
      "11. feature 15 (0.026189)\n",
      "12. feature 25 (0.024686)\n",
      "13. feature 12 (0.023139)\n",
      "14. feature 30 (0.022319)\n",
      "15. feature 42 (0.020901)\n",
      "16. feature 28 (0.020804)\n",
      "17. feature 23 (0.019879)\n",
      "18. feature 6 (0.019604)\n",
      "19. feature 24 (0.018938)\n",
      "20. feature 18 (0.018886)\n",
      "21. feature 21 (0.018664)\n",
      "22. feature 19 (0.018585)\n",
      "23. feature 37 (0.017707)\n",
      "24. feature 20 (0.016177)\n",
      "25. feature 31 (0.016168)\n",
      "26. feature 32 (0.015795)\n",
      "27. feature 7 (0.014916)\n",
      "28. feature 10 (0.014631)\n",
      "29. feature 34 (0.013322)\n",
      "30. feature 35 (0.012955)\n",
      "31. feature 84 (0.011859)\n",
      "32. feature 38 (0.011855)\n",
      "33. feature 46 (0.010768)\n",
      "34. feature 22 (0.010219)\n",
      "35. feature 5 (0.009838)\n",
      "36. feature 81 (0.008809)\n",
      "37. feature 17 (0.007871)\n",
      "38. feature 48 (0.007756)\n",
      "39. feature 36 (0.007550)\n",
      "40. feature 41 (0.006927)\n",
      "41. feature 47 (0.006467)\n",
      "42. feature 11 (0.006464)\n",
      "43. feature 4 (0.006403)\n",
      "44. feature 63 (0.006159)\n",
      "45. feature 89 (0.006077)\n",
      "46. feature 71 (0.005477)\n",
      "47. feature 50 (0.005104)\n",
      "48. feature 9 (0.005043)\n",
      "49. feature 64 (0.004907)\n",
      "50. feature 62 (0.004779)\n",
      "51. feature 70 (0.004704)\n",
      "52. feature 86 (0.004560)\n",
      "53. feature 51 (0.004440)\n",
      "54. feature 1 (0.004377)\n",
      "55. feature 75 (0.004253)\n",
      "56. feature 88 (0.004092)\n",
      "57. feature 87 (0.003915)\n",
      "58. feature 45 (0.003762)\n",
      "59. feature 33 (0.003685)\n",
      "60. feature 80 (0.003600)\n",
      "61. feature 56 (0.003495)\n",
      "62. feature 49 (0.003441)\n",
      "63. feature 61 (0.003414)\n",
      "64. feature 44 (0.003386)\n",
      "65. feature 40 (0.003103)\n",
      "66. feature 74 (0.003062)\n",
      "67. feature 90 (0.002890)\n",
      "68. feature 54 (0.002422)\n",
      "69. feature 55 (0.002409)\n",
      "70. feature 76 (0.002380)\n",
      "71. feature 85 (0.002309)\n",
      "72. feature 58 (0.002036)\n",
      "73. feature 77 (0.001781)\n",
      "74. feature 66 (0.001738)\n",
      "75. feature 53 (0.001644)\n",
      "76. feature 57 (0.001581)\n",
      "77. feature 59 (0.001559)\n",
      "78. feature 68 (0.001559)\n",
      "79. feature 60 (0.001429)\n",
      "80. feature 69 (0.001272)\n",
      "81. feature 72 (0.001103)\n",
      "82. feature 82 (0.000866)\n",
      "83. feature 73 (0.000745)\n",
      "84. feature 52 (0.000658)\n",
      "85. feature 43 (0.000652)\n",
      "86. feature 65 (0.000573)\n",
      "87. feature 83 (0.000395)\n",
      "88. feature 67 (0.000327)\n",
      "89. feature 16 (0.000325)\n",
      "90. feature 78 (0.000191)\n",
      "91. feature 79 (0.000091)\n"
     ]
    },
    {
     "data": {
      "image/png": "[encoded data removed]",
      "text/plain": [
       "<Figure size 432x288 with 1 Axes>"
      ]
     },
     "metadata": {
      "needs_background": "light"
     },
     "output_type": "display_data"
    }
   ],
   "source": [
    "importances = rf.feature_importances_\n",
    "std = np.std([tree.feature_importances_ for tree in rf.estimators_],\n",
    "             axis=0)\n",
    "indices = np.argsort(importances)[::-1]\n",
    "\n",
    "# Print the feature ranking\n",
    "print(\"Feature ranking:\")\n",
    "\n",
    "for f in range(X.shape[1]):\n",
    "    print(\"%d. feature %d (%f)\" % (f + 1, indices[f], importances[indices[f]]))\n",
    "\n",
    "# Plot the impurity-based feature importances of the forest\n",
    "plt.figure()\n",
    "plt.title(\"Feature importances\")\n",
    "plt.bar(range(X.shape[1]), importances[indices],\n",
    "        color=\"r\", yerr=std[indices], align=\"center\")\n",
    "plt.xticks(range(X.shape[1]), indices)\n",
    "plt.xlim([-1, X.shape[1]])\n",
    "plt.show()"
   ]
  },
  {
   "cell_type": "raw",
   "metadata": {},
   "source": []
  }
 ],
 "metadata": {
  "kernelspec": {
   "display_name": "unc_env",
   "language": "python",
   "name": "unc_env"
  },
  "language_info": {
   "codemirror_mode": {
    "name": "ipython",
    "version": 3
   },
   "file_extension": ".py",
   "mimetype": "text/x-python",
   "name": "python",
   "nbconvert_exporter": "python",
   "pygments_lexer": "ipython3",
   "version": "3.8.5"
  }
 },
 "nbformat": 4,
 "nbformat_minor": 4
}
