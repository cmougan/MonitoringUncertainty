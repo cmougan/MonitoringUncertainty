{
 "cells": [
  {
   "cell_type": "code",
   "execution_count": 1,
   "id": "c82d34cf",
   "metadata": {},
   "outputs": [],
   "source": [
    "from sklearn.linear_model import Lasso\n",
    "from doubt import Boot\n",
    "import numpy as np"
   ]
  },
  {
   "cell_type": "markdown",
   "id": "4bc6bcb5",
   "metadata": {},
   "source": [
    "Generate normal-distributed random data"
   ]
  },
  {
   "cell_type": "code",
   "execution_count": 2,
   "id": "2f8d3b17",
   "metadata": {},
   "outputs": [],
   "source": [
    "N = 1000\n",
    "mu = 1\n",
    "cov = 0.5\n",
    "x1 = np.random.normal(mu, cov, size=N)\n",
    "x2 = np.random.normal(mu, cov, size=N)\n",
    "x3 = np.random.normal(mu, cov, size=N)"
   ]
  },
  {
   "cell_type": "markdown",
   "id": "914010a0",
   "metadata": {},
   "source": [
    "Create a synthetic dataset and target\n"
   ]
  },
  {
   "cell_type": "code",
   "execution_count": 3,
   "id": "78ff7c1b",
   "metadata": {},
   "outputs": [],
   "source": [
    "X = np.array([x1, x2, x3]).T\n",
    "y = 10 * x1**2 + x2 + np.random.normal(0, 0.01, N)"
   ]
  },
  {
   "cell_type": "markdown",
   "id": "6e5be7e0",
   "metadata": {},
   "source": [
    "Create out-of-distribution data by shifting the first feature by 5"
   ]
  },
  {
   "cell_type": "code",
   "execution_count": 4,
   "id": "20155d85",
   "metadata": {},
   "outputs": [],
   "source": [
    "X_ood = np.array([(x1 + 5) ** 2, x2, x3]).T\n",
    "X_ood = np.concatenate([X_ood, X], axis=0)"
   ]
  },
  {
   "cell_type": "markdown",
   "id": "ee69914a",
   "metadata": {},
   "source": [
    "Create linear regression model with uncertainty estimation support, using our `Boot` wrapper class"
   ]
  },
  {
   "cell_type": "code",
   "execution_count": 5,
   "id": "668835b5",
   "metadata": {},
   "outputs": [],
   "source": [
    "clf = Boot(LinearRegression())\n",
    "\n",
    "# Fit the model to the data\n",
    "clf = clf.fit(X, y)"
   ]
  },
  {
   "cell_type": "markdown",
   "id": "ccb213cb",
   "metadata": {},
   "source": [
    "Compute predictions along with prediction intervals on the out-of-distribution data"
   ]
  },
  {
   "cell_type": "code",
   "execution_count": 6,
   "id": "a766395d",
   "metadata": {},
   "outputs": [],
   "source": [
    "preds, intervals = clf.predict(X_ood, uncertainty=0.05)\n",
    "\n",
    "# Compute the uncertainty, being the width of the prediction intervals\n",
    "unc = intervals[:, 1] - intervals[:, 0]"
   ]
  },
  {
   "cell_type": "markdown",
   "id": "b9bb2de9",
   "metadata": {},
   "source": [
    "Explainable Uncertainty "
   ]
  },
  {
   "cell_type": "code",
   "execution_count": 7,
   "id": "8ff99754",
   "metadata": {},
   "outputs": [
    {
     "data": {
      "text/plain": [
       "array([ 1.922, -0.   ,  0.   ])"
      ]
     },
     "execution_count": 7,
     "metadata": {},
     "output_type": "execute_result"
    }
   ],
   "source": [
    "m = Lasso().fit(X_ood, unc)\n",
    "np.round(m.coef_, decimals=3)"
   ]
  },
  {
   "cell_type": "markdown",
   "id": "b7031382",
   "metadata": {},
   "source": [
    "The coefficients of the second model detect the reason of model degradation "
   ]
  },
  {
   "cell_type": "code",
   "execution_count": null,
   "id": "61a201e0",
   "metadata": {},
   "outputs": [],
   "source": []
  }
 ],
 "metadata": {
  "kernelspec": {
   "display_name": "explanationShift",
   "language": "python",
   "name": "explanationshift"
  },
  "language_info": {
   "codemirror_mode": {
    "name": "ipython",
    "version": 3
   },
   "file_extension": ".py",
   "mimetype": "text/x-python",
   "name": "python",
   "nbconvert_exporter": "python",
   "pygments_lexer": "ipython3",
   "version": "3.9.12"
  }
 },
 "nbformat": 4,
 "nbformat_minor": 5
}
