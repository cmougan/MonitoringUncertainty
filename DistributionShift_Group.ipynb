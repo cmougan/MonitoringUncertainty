{
 "cells": [
  {
   "cell_type": "markdown",
   "metadata": {},
   "source": [
    "**Experiment**: Detecting distribution shift with uncertainty\n",
    "\n",
    "**Dataset**: https://www.kaggle.com/c/ieee-fraud-detection\n",
    "\n",
    "**Uncertainty estimation**: Aggregating random forest by the standard deviation\n",
    "\n",
    "**Methodology**: For 10 rounds add values to one feature (for one group) and evaluate the uncertainty of this group. \n",
    "\n"
   ]
  },
  {
   "cell_type": "code",
   "execution_count": 67,
   "metadata": {
    "scrolled": true
   },
   "outputs": [],
   "source": [
    "import pandas as pd\n",
    "from ensemble import StdForestClassifier\n",
    "from category_encoders.m_estimate import MEstimateEncoder\n",
    "from sklearn.model_selection import train_test_split\n",
    "from sklearn.metrics import roc_auc_score,classification_report\n",
    "from sklearn.ensemble import RandomForestClassifier\n",
    "import shap\n",
    "import numpy as np\n",
    "import matplotlib.pyplot as plt\n",
    "from imblearn.under_sampling import RandomUnderSampler\n",
    "from sklearn.pipeline import Pipeline\n",
    "plt.style.use('seaborn-whitegrid')"
   ]
  },
  {
   "cell_type": "code",
   "execution_count": 2,
   "metadata": {},
   "outputs": [],
   "source": [
    "def modify_group(\n",
    "    data, std=1, feat=\"ProductCD\", feat_modify=\"TransactionAmt\", category=\"C\"\n",
    "):\n",
    "    d = pd.DataFrame()\n",
    "\n",
    "    for cat in data[feat].unique():\n",
    "        aux = data[data[feat] == cat].copy()\n",
    "        if cat == category:\n",
    "            deviation = np.std(aux[feat_modify])\n",
    "            aux[feat_modify] = aux[feat_modify] + std * deviation\n",
    "\n",
    "        d = d.append(aux)\n",
    "    return d"
   ]
  },
  {
   "cell_type": "code",
   "execution_count": 3,
   "metadata": {},
   "outputs": [],
   "source": [
    "def pipe_predict_std(pipeline,data):\n",
    "    data = pipeline[:-1].transform(data)\n",
    "    return pipeline.named_steps['rf'].predict_std(data)"
   ]
  },
  {
   "cell_type": "code",
   "execution_count": 4,
   "metadata": {},
   "outputs": [],
   "source": [
    "df = pd.read_csv('data/train_transaction.csv')"
   ]
  },
  {
   "cell_type": "code",
   "execution_count": 5,
   "metadata": {},
   "outputs": [],
   "source": [
    "df = df.iloc[:, :-300]\n",
    "undersample = RandomUnderSampler(sampling_strategy=0.5)"
   ]
  },
  {
   "cell_type": "code",
   "execution_count": 6,
   "metadata": {},
   "outputs": [],
   "source": [
    "X = df.drop(columns=['TransactionID', 'isFraud', 'TransactionDT'])\n",
    "y = df[['isFraud']]"
   ]
  },
  {
   "cell_type": "code",
   "execution_count": 7,
   "metadata": {},
   "outputs": [],
   "source": [
    "X,y = undersample.fit_resample(X,y)"
   ]
  },
  {
   "cell_type": "code",
   "execution_count": 8,
   "metadata": {},
   "outputs": [],
   "source": [
    "X = X.fillna(-1)"
   ]
  },
  {
   "cell_type": "code",
   "execution_count": 9,
   "metadata": {},
   "outputs": [],
   "source": [
    "X_tr, X_te, y_tr, y_te = train_test_split(X,y,stratify=y,test_size=0.1)"
   ]
  },
  {
   "cell_type": "code",
   "execution_count": 10,
   "metadata": {},
   "outputs": [],
   "source": [
    "rf = StdForestClassifier()\n",
    "enc = MEstimateEncoder()\n",
    "pipe = Pipeline([(\"enc\", enc), (\"rf\", rf)])"
   ]
  },
  {
   "cell_type": "code",
   "execution_count": 11,
   "metadata": {
    "scrolled": false
   },
   "outputs": [
    {
     "name": "stderr",
     "output_type": "stream",
     "text": [
      "is_categorical is deprecated and will be removed in a future version.  Use is_categorical_dtype instead\n",
      "A column-vector y was passed when a 1d array was expected. Please change the shape of y to (n_samples,), for example using ravel().\n"
     ]
    },
    {
     "name": "stdout",
     "output_type": "stream",
     "text": [
      "CPU times: user 10.2 s, sys: 202 ms, total: 10.4 s\n",
      "Wall time: 10.5 s\n"
     ]
    },
    {
     "data": {
      "text/plain": [
       "Pipeline(steps=[('enc',\n",
       "                 MEstimateEncoder(cols=['ProductCD', 'card4', 'card6',\n",
       "                                        'P_emaildomain', 'R_emaildomain', 'M1',\n",
       "                                        'M2', 'M3', 'M4', 'M5', 'M6', 'M7',\n",
       "                                        'M8', 'M9'])),\n",
       "                ('rf',\n",
       "                 <ensemble.StdForestClassifier object at 0x7fbb8cbdab50>)])"
      ]
     },
     "execution_count": 11,
     "metadata": {},
     "output_type": "execute_result"
    }
   ],
   "source": [
    "%%time\n",
    "pipe.fit(X_tr,y_tr)"
   ]
  },
  {
   "cell_type": "code",
   "execution_count": 12,
   "metadata": {},
   "outputs": [
    {
     "name": "stdout",
     "output_type": "stream",
     "text": [
      "              precision    recall  f1-score   support\n",
      "\n",
      "           0       0.96      0.90      0.93      4407\n",
      "           1       0.78      0.90      0.84      1792\n",
      "\n",
      "    accuracy                           0.90      6199\n",
      "   macro avg       0.87      0.90      0.88      6199\n",
      "weighted avg       0.91      0.90      0.90      6199\n",
      "\n"
     ]
    }
   ],
   "source": [
    "print(classification_report(pipe.predict(X_te),y_te))"
   ]
  },
  {
   "cell_type": "code",
   "execution_count": 53,
   "metadata": {},
   "outputs": [],
   "source": [
    "res = {}\n",
    "for i in range(0,10):\n",
    "    aux = modify_group(X_te,std=i)\n",
    "\n",
    "\n",
    "    aux['preds'] = pipe_predict_std(pipe,aux)\n",
    "\n",
    "    res[i] = aux.groupby('ProductCD').preds.mean()"
   ]
  },
  {
   "cell_type": "code",
   "execution_count": 58,
   "metadata": {},
   "outputs": [],
   "source": [
    "res = pd.DataFrame(res).T"
   ]
  },
  {
   "cell_type": "code",
   "execution_count": 62,
   "metadata": {},
   "outputs": [
    {
     "data": {
      "text/html": [
       "<div>\n",
       "<style scoped>\n",
       "    .dataframe tbody tr th:only-of-type {\n",
       "        vertical-align: middle;\n",
       "    }\n",
       "\n",
       "    .dataframe tbody tr th {\n",
       "        vertical-align: top;\n",
       "    }\n",
       "\n",
       "    .dataframe thead th {\n",
       "        text-align: right;\n",
       "    }\n",
       "</style>\n",
       "<table border=\"1\" class=\"dataframe\">\n",
       "  <thead>\n",
       "    <tr style=\"text-align: right;\">\n",
       "      <th>ProductCD</th>\n",
       "      <th>C</th>\n",
       "      <th>H</th>\n",
       "      <th>R</th>\n",
       "      <th>S</th>\n",
       "      <th>W</th>\n",
       "    </tr>\n",
       "  </thead>\n",
       "  <tbody>\n",
       "    <tr>\n",
       "      <th>0</th>\n",
       "      <td>0.284803</td>\n",
       "      <td>0.285773</td>\n",
       "      <td>0.265077</td>\n",
       "      <td>0.269011</td>\n",
       "      <td>0.308994</td>\n",
       "    </tr>\n",
       "    <tr>\n",
       "      <th>1</th>\n",
       "      <td>0.297459</td>\n",
       "      <td>0.285773</td>\n",
       "      <td>0.265077</td>\n",
       "      <td>0.269011</td>\n",
       "      <td>0.308994</td>\n",
       "    </tr>\n",
       "    <tr>\n",
       "      <th>2</th>\n",
       "      <td>0.306495</td>\n",
       "      <td>0.285773</td>\n",
       "      <td>0.265077</td>\n",
       "      <td>0.269011</td>\n",
       "      <td>0.308994</td>\n",
       "    </tr>\n",
       "    <tr>\n",
       "      <th>3</th>\n",
       "      <td>0.314067</td>\n",
       "      <td>0.285773</td>\n",
       "      <td>0.265077</td>\n",
       "      <td>0.269011</td>\n",
       "      <td>0.308994</td>\n",
       "    </tr>\n",
       "    <tr>\n",
       "      <th>4</th>\n",
       "      <td>0.318485</td>\n",
       "      <td>0.285773</td>\n",
       "      <td>0.265077</td>\n",
       "      <td>0.269011</td>\n",
       "      <td>0.308994</td>\n",
       "    </tr>\n",
       "    <tr>\n",
       "      <th>5</th>\n",
       "      <td>0.320378</td>\n",
       "      <td>0.285773</td>\n",
       "      <td>0.265077</td>\n",
       "      <td>0.269011</td>\n",
       "      <td>0.308994</td>\n",
       "    </tr>\n",
       "    <tr>\n",
       "      <th>6</th>\n",
       "      <td>0.322979</td>\n",
       "      <td>0.285773</td>\n",
       "      <td>0.265077</td>\n",
       "      <td>0.269011</td>\n",
       "      <td>0.308994</td>\n",
       "    </tr>\n",
       "    <tr>\n",
       "      <th>7</th>\n",
       "      <td>0.324105</td>\n",
       "      <td>0.285773</td>\n",
       "      <td>0.265077</td>\n",
       "      <td>0.269011</td>\n",
       "      <td>0.308994</td>\n",
       "    </tr>\n",
       "    <tr>\n",
       "      <th>8</th>\n",
       "      <td>0.325867</td>\n",
       "      <td>0.285773</td>\n",
       "      <td>0.265077</td>\n",
       "      <td>0.269011</td>\n",
       "      <td>0.308994</td>\n",
       "    </tr>\n",
       "    <tr>\n",
       "      <th>9</th>\n",
       "      <td>0.326436</td>\n",
       "      <td>0.285773</td>\n",
       "      <td>0.265077</td>\n",
       "      <td>0.269011</td>\n",
       "      <td>0.308994</td>\n",
       "    </tr>\n",
       "  </tbody>\n",
       "</table>\n",
       "</div>"
      ],
      "text/plain": [
       "ProductCD         C         H         R         S         W\n",
       "0          0.284803  0.285773  0.265077  0.269011  0.308994\n",
       "1          0.297459  0.285773  0.265077  0.269011  0.308994\n",
       "2          0.306495  0.285773  0.265077  0.269011  0.308994\n",
       "3          0.314067  0.285773  0.265077  0.269011  0.308994\n",
       "4          0.318485  0.285773  0.265077  0.269011  0.308994\n",
       "5          0.320378  0.285773  0.265077  0.269011  0.308994\n",
       "6          0.322979  0.285773  0.265077  0.269011  0.308994\n",
       "7          0.324105  0.285773  0.265077  0.269011  0.308994\n",
       "8          0.325867  0.285773  0.265077  0.269011  0.308994\n",
       "9          0.326436  0.285773  0.265077  0.269011  0.308994"
      ]
     },
     "execution_count": 62,
     "metadata": {},
     "output_type": "execute_result"
    }
   ],
   "source": [
    "res"
   ]
  },
  {
   "cell_type": "code",
   "execution_count": 71,
   "metadata": {},
   "outputs": [
    {
     "data": {
      "image/png": "[encoded data removed]",
      "text/plain": [
       "<Figure size 432x288 with 1 Axes>"
      ]
     },
     "metadata": {},
     "output_type": "display_data"
    }
   ],
   "source": [
    "plt.figure()\n",
    "plt.title('Uncertainty prediction through distribution shift to one group')\n",
    "plt.ylabel('Uncertainty')\n",
    "plt.xlabel(' x Distribution shift')\n",
    "plt.plot(res['C'],label='C group')\n",
    "plt.plot(res['H'],label='H group')\n",
    "plt.plot(res['R'],label='R group')\n",
    "plt.plot(res['S'],label='S group')\n",
    "plt.plot(res['W'],label='W group')\n",
    "plt.legend()\n",
    "plt.show()\n"
   ]
  }
 ],
 "metadata": {
  "kernelspec": {
   "display_name": "unc_env",
   "language": "python",
   "name": "unc_env"
  },
  "language_info": {
   "codemirror_mode": {
    "name": "ipython",
    "version": 3
   },
   "file_extension": ".py",
   "mimetype": "text/x-python",
   "name": "python",
   "nbconvert_exporter": "python",
   "pygments_lexer": "ipython3",
   "version": "3.8.5"
  }
 },
 "nbformat": 4,
 "nbformat_minor": 4
}
