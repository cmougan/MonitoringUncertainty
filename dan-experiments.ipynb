{
 "cells": [
  {
   "cell_type": "code",
   "execution_count": null,
   "id": "fecd1125-fc44-48f4-81af-c672be78b092",
   "metadata": {},
   "outputs": [],
   "source": [
    "# Import candidate models\n",
    "from doubt import Boot, QuantileRegressor, QuantileRegressionForest\n",
    "from sklearn.linear_model import (LinearRegression, PoissonRegressor, \n",
    "                                  GammaRegressor, HuberRegressor)\n",
    "from sklearn.ensemble import RandomForestRegressor\n",
    "from sklearn.svm import LinearSVR\n",
    "from sklearn.neural_network import MLPRegressor\n",
    "\n",
    "# Import datasets\n",
    "from doubt.datasets import (Airfoil, Blog, Concrete, CPU, \n",
    "                            FacebookComments, FishBioconcentration,\n",
    "                            FishToxicity, ForestFire, NewTaipeiHousing,\n",
    "                            PowerPlant, Protein, Servo,\n",
    "                            SpaceShuttle, Yacht)\n",
    "\n",
    "# Import external libraries\n",
    "import pandas as pd\n",
    "import numpy as np\n",
    "from tqdm.auto import tqdm, trange\n",
    "from scipy.stats import ks_2samp, entropy, kruskal\n",
    "import matplotlib.pyplot as plt; plt.style.use('ggplot')\n",
    "from sklearn.preprocessing import StandardScaler\n",
    "import warnings\n",
    "from collections import defaultdict\n",
    "\n",
    "# Import internal classes\n",
    "from distributions import DistributionShift\n",
    "from src.psi import psi"
   ]
  },
  {
   "cell_type": "code",
   "execution_count": null,
   "id": "589dc25d-2580-4bc7-b604-a2d6b13d1254",
   "metadata": {},
   "outputs": [],
   "source": [
    "dataset_classes = [Airfoil, Concrete,\n",
    "                   FishToxicity, ForestFire, NewTaipeiHousing,\n",
    "                   PowerPlant, Protein, Servo]"
   ]
  },
  {
   "cell_type": "code",
   "execution_count": null,
   "id": "22d85926-63f6-435d-be69-4f02e40547e9",
   "metadata": {},
   "outputs": [],
   "source": [
    "def monitoring_plot(dataset, base_regressor: type):\n",
    "    \n",
    "    with warnings.catch_warnings():\n",
    "        warnings.simplefilter('ignore')\n",
    "        \n",
    "        # Initialise the scaler\n",
    "        standard_scaler = StandardScaler()\n",
    "        \n",
    "        # Load the dataset and split it\n",
    "        X_train, X_test, y_train, y_test = dataset().split(test_size=0.3, random_seed=4242)\n",
    "        \n",
    "        # Scale the dataset\n",
    "        X_train = standard_scaler.fit_transform(X_train)\n",
    "        X_test = standard_scaler.transform(X_test)\n",
    "\n",
    "        # Initialise the shifter\n",
    "        shifter = DistributionShift()\n",
    "        shifter.fit(X_train)\n",
    "\n",
    "        def initialise_plot(num_rows: int, num_cols: int):\n",
    "            fig, axs = plt.subplots(num_rows, num_cols, sharex=True, sharey=True, figsize=(14, 3.5 * num_rows))\n",
    "            fig.suptitle(f'Monitoring plot for the {dataset.__name__} dataset under feature drift with {base_regressor.__name__}', fontsize=16)\n",
    "            for j in range(num_cols):\n",
    "                axs[num_rows - 1, j].set_xlabel('Number of standard deviations shifted')\n",
    "            for i in range(num_rows):\n",
    "                axs[i, 0].set_ylabel('Normalised values')\n",
    "            return fig, axs\n",
    "\n",
    "        # Fit the regressor\n",
    "        regressor = Boot(base_regressor())\n",
    "        regressor.fit(X_train, y_train, n_boots=20)\n",
    "\n",
    "        xx = np.arange(-10, 11, 1.0)\n",
    "        num_rows = X_train.shape[1] // 3\n",
    "        if X_train.shape[1] % 3 > 0:\n",
    "            num_rows += 1\n",
    "        fig, axs = initialise_plot(num_rows=num_rows, num_cols=3)\n",
    "        for idx, col in enumerate(trange(X_train.shape[1])):\n",
    "            values = defaultdict(list)\n",
    "            for std in xx:\n",
    "                shifter.set_params(param=std, cols=[col])\n",
    "                new_X_test = shifter.transform(X_test)\n",
    "\n",
    "                predictions, intervals = regressor.predict(new_X_test, uncertainty=0.05, n_boots=20)\n",
    "\n",
    "                values['uncertainty'].append(np.mean(intervals[:, 1] - intervals[:, 0]))\n",
    "                values['psi'].append(sum(psi(X_train[:, c], new_X_test[:, c]) for c in range(X_train.shape[1])))\n",
    "                values['ks'].append(sum(ks_2samp(X_train[:, c], new_X_test[:, c]).statistic for c in range(X_train.shape[1])))\n",
    "                values['mse'].append(np.mean((predictions - y_test) ** 2))\n",
    "\n",
    "            # Normalise the values\n",
    "            for name, vals in values.items():\n",
    "                values[name] = standard_scaler.fit_transform(np.expand_dims(vals, -1))\n",
    "\n",
    "            for name, vals in values.items():\n",
    "                if idx == 0:\n",
    "                    axs[idx // 3, idx % 3].plot(xx, vals, marker='x', label=f'{name} values')\n",
    "                else:\n",
    "                    axs[idx // 3, idx % 3].plot(xx, vals, marker='x')\n",
    "\n",
    "        fig.legend()\n",
    "        plt.show()"
   ]
  },
  {
   "cell_type": "code",
   "execution_count": null,
   "id": "25ff97f1-8162-4f6d-8a21-102656e27222",
   "metadata": {
    "tags": []
   },
   "outputs": [],
   "source": [
    "%%time\n",
    "for dataset in dataset_classes:\n",
    "    monitoring_plot(dataset, LinearRegression)"
   ]
  },
  {
   "cell_type": "code",
   "execution_count": null,
   "id": "0ca8e234-815f-4263-a180-29e0638786b3",
   "metadata": {},
   "outputs": [],
   "source": [
    "%%time\n",
    "for dataset in dataset_classes:\n",
    "    monitoring_plot(dataset, PoissonRegressor)"
   ]
  },
  {
   "cell_type": "code",
   "execution_count": null,
   "id": "a554fb20-0898-4cdc-bd8c-37b3d91ecc32",
   "metadata": {},
   "outputs": [],
   "source": [
    "%%time\n",
    "for dataset in dataset_classes:\n",
    "    monitoring_plot(dataset, GammaRegressor)"
   ]
  },
  {
   "cell_type": "code",
   "execution_count": null,
   "id": "7af4bb64-1a26-49b1-8f5a-aab81bb057d6",
   "metadata": {},
   "outputs": [],
   "source": [
    "%%time\n",
    "for dataset in dataset_classes:\n",
    "    monitoring_plot(dataset, MLPRegressor)"
   ]
  }
 ],
 "metadata": {
  "kernelspec": {
   "display_name": "Python 3",
   "language": "python",
   "name": "python3"
  },
  "language_info": {
   "codemirror_mode": {
    "name": "ipython",
    "version": 3
   },
   "file_extension": ".py",
   "mimetype": "text/x-python",
   "name": "python",
   "nbconvert_exporter": "python",
   "pygments_lexer": "ipython3",
   "version": "3.8.3"
  }
 },
 "nbformat": 4,
 "nbformat_minor": 5
}
