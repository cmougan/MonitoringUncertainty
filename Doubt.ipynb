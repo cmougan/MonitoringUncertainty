{
 "cells": [
  {
   "cell_type": "code",
   "execution_count": 1,
   "metadata": {
    "ExecuteTime": {
     "end_time": "2021-06-01T12:58:10.420188Z",
     "start_time": "2021-06-01T12:58:10.407220Z"
    }
   },
   "outputs": [
    {
     "data": {
      "application/javascript": [
       "utils.load_extension('collapsible_headings/main')\n",
       "utils.load_extension('hide_input/main')\n",
       "utils.load_extension('autosavetime/main')\n",
       "utils.load_extension('execute_time/ExecuteTime')\n",
       "utils.load_extension('code_prettify/code_prettify')\n",
       "utils.load_extension('scroll_down/main')\n",
       "utils.load_extension('jupyter-js-widgets/extension')\n"
      ],
      "text/plain": [
       "<IPython.core.display.Javascript object>"
      ]
     },
     "metadata": {},
     "output_type": "display_data"
    }
   ],
   "source": [
    "%%javascript\n",
    "utils.load_extension('collapsible_headings/main')\n",
    "utils.load_extension('hide_input/main')\n",
    "utils.load_extension('autosavetime/main')\n",
    "utils.load_extension('execute_time/ExecuteTime')\n",
    "utils.load_extension('code_prettify/code_prettify')\n",
    "utils.load_extension('scroll_down/main')\n",
    "utils.load_extension('jupyter-js-widgets/extension')"
   ]
  },
  {
   "cell_type": "code",
   "execution_count": 2,
   "metadata": {
    "ExecuteTime": {
     "end_time": "2021-06-01T12:58:29.548074Z",
     "start_time": "2021-06-01T12:58:10.840163Z"
    }
   },
   "outputs": [],
   "source": [
    "from sklearn.linear_model import LinearRegression\n",
    "from doubt import Boot\n",
    "\n",
    "from distributions import DistributionShift\n",
    "from sklearn.pipeline import Pipeline\n",
    "import numpy as np\n",
    "import pandas as pd\n",
    "from tqdm import tqdm\n",
    "from sklearn.model_selection import train_test_split\n",
    "import matplotlib.pyplot as plt\n",
    "\n",
    "from doubt.datasets import PowerPlant\n",
    "from doubt import QuantileRegressionForest as QRF"
   ]
  },
  {
   "cell_type": "markdown",
   "metadata": {},
   "source": [
    "## Power Plant"
   ]
  },
  {
   "cell_type": "code",
   "execution_count": 3,
   "metadata": {
    "ExecuteTime": {
     "end_time": "2021-06-01T12:58:30.460022Z",
     "start_time": "2021-06-01T12:58:29.550585Z"
    },
    "scrolled": true
   },
   "outputs": [],
   "source": [
    "X, y = PowerPlant().split()"
   ]
  },
  {
   "cell_type": "code",
   "execution_count": 4,
   "metadata": {
    "ExecuteTime": {
     "end_time": "2021-06-01T12:58:30.471306Z",
     "start_time": "2021-06-01T12:58:30.463498Z"
    }
   },
   "outputs": [],
   "source": [
    "X = pd.DataFrame(X,columns = ['one','two','three','four'])"
   ]
  },
  {
   "cell_type": "code",
   "execution_count": 5,
   "metadata": {
    "ExecuteTime": {
     "end_time": "2021-06-01T12:58:30.481885Z",
     "start_time": "2021-06-01T12:58:30.473887Z"
    }
   },
   "outputs": [],
   "source": [
    "X_tr,X_te,y_tr,y_te = train_test_split(X,y)"
   ]
  },
  {
   "cell_type": "markdown",
   "metadata": {},
   "source": [
    "### Linear Regression"
   ]
  },
  {
   "cell_type": "code",
   "execution_count": 6,
   "metadata": {
    "ExecuteTime": {
     "end_time": "2021-06-01T12:58:34.532374Z",
     "start_time": "2021-06-01T12:58:30.484043Z"
    }
   },
   "outputs": [
    {
     "data": {
      "text/plain": [
       "Pipeline(steps=[('shift',\n",
       "                 DistributionShift(cols=Index(['one', 'two', 'three', 'four'], dtype='object'))),\n",
       "                ('clf', Boot(model=LinearRegression, random_seed=None))])"
      ]
     },
     "execution_count": 6,
     "metadata": {},
     "output_type": "execute_result"
    }
   ],
   "source": [
    "shift = DistributionShift(strategy='covariateShift')\n",
    "clf = Boot(LinearRegression())\n",
    "pipe = Pipeline([(\"shift\", shift), (\"clf\", clf)])\n",
    "pipe.fit(X_tr, y_tr)"
   ]
  },
  {
   "cell_type": "code",
   "execution_count": 13,
   "metadata": {
    "ExecuteTime": {
     "end_time": "2021-06-01T13:06:26.504040Z",
     "start_time": "2021-06-01T13:06:19.359702Z"
    },
    "scrolled": true
   },
   "outputs": [],
   "source": [
    "a = clf.predict(X_te, uncertainty=0.05)"
   ]
  },
  {
   "cell_type": "code",
   "execution_count": 23,
   "metadata": {
    "ExecuteTime": {
     "end_time": "2021-06-01T13:08:02.448239Z",
     "start_time": "2021-06-01T13:08:02.339332Z"
    }
   },
   "outputs": [
    {
     "data": {
      "text/plain": [
       "array([16.72843009, 16.72346957, 16.72359262, ..., 16.722197  ,\n",
       "       16.72873693, 16.7263132 ])"
      ]
     },
     "execution_count": 23,
     "metadata": {},
     "output_type": "execute_result"
    }
   ],
   "source": [
    "\n",
    "a[1][:,1]-a[1][:,0]"
   ]
  },
  {
   "cell_type": "code",
   "execution_count": null,
   "metadata": {},
   "outputs": [],
   "source": []
  },
  {
   "cell_type": "code",
   "execution_count": 24,
   "metadata": {
    "ExecuteTime": {
     "end_time": "2021-06-01T13:09:19.415120Z",
     "start_time": "2021-06-01T13:09:03.837475Z"
    }
   },
   "outputs": [
    {
     "name": "stderr",
     "output_type": "stream",
     "text": [
      "100%|██████████| 10/10 [00:15<00:00,  1.55s/it]\n"
     ]
    }
   ],
   "source": [
    "preds = []\n",
    "for p in tqdm(range(-5,5)):\n",
    "    pipe.set_params(shift__param=p)\n",
    "    prediction = pipe.predict(X_te, uncertainty=0.05)\n",
    "\n",
    "    preds.append(np.mean(    prediction[1][:,1]-prediction[1][:,0]))\n"
   ]
  },
  {
   "cell_type": "code",
   "execution_count": 25,
   "metadata": {
    "ExecuteTime": {
     "end_time": "2021-06-01T13:09:21.512078Z",
     "start_time": "2021-06-01T13:09:21.154782Z"
    },
    "scrolled": true
   },
   "outputs": [
    {
     "data": {
      "image/png": "[encoded data removed]",
      "text/plain": [
       "<Figure size 432x288 with 1 Axes>"
      ]
     },
     "metadata": {
      "needs_background": "light"
     },
     "output_type": "display_data"
    }
   ],
   "source": [
    "plt.figure()\n",
    "plt.plot(preds)\n",
    "plt.show()"
   ]
  },
  {
   "cell_type": "code",
   "execution_count": 27,
   "metadata": {
    "ExecuteTime": {
     "end_time": "2021-06-01T13:13:58.839397Z",
     "start_time": "2021-06-01T13:12:54.983111Z"
    }
   },
   "outputs": [
    {
     "name": "stderr",
     "output_type": "stream",
     "text": [
      "100%|██████████| 4/4 [01:03<00:00, 15.94s/it]\n"
     ]
    }
   ],
   "source": [
    "preds = []\n",
    "for col in tqdm(X_tr.columns):\n",
    "    res = []\n",
    "    for i in range(-5, 5):\n",
    "        pipe.set_params(shift__param=i, shift__cols=col)\n",
    "        prediction = pipe.predict(X_te, uncertainty=0.05)\n",
    "        res.append(np.mean(prediction[1][:,1]-prediction[1][:,0]))\n",
    "    preds.append({\"col\": col, \"values\": res})"
   ]
  },
  {
   "cell_type": "raw",
   "metadata": {
    "ExecuteTime": {
     "end_time": "2021-06-01T12:58:35.147353Z",
     "start_time": "2021-06-01T12:58:34.931557Z"
    }
   },
   "source": [
    "preds = []\n",
    "for col in X_tr.columns:\n",
    "    res = []\n",
    "    for i in range(0, 50):\n",
    "        pipe.set_params(shift__param=i, shift__cols=col)\n",
    "        res.append(np.mean(pipe.predict(X_te)))\n",
    "    preds.append({\"col\": col, \"values\": res})"
   ]
  },
  {
   "cell_type": "code",
   "execution_count": 28,
   "metadata": {
    "ExecuteTime": {
     "end_time": "2021-06-01T13:14:05.009632Z",
     "start_time": "2021-06-01T13:14:04.485819Z"
    },
    "scrolled": true
   },
   "outputs": [
    {
     "data": {
      "image/png": "[encoded data removed]",
      "text/plain": [
       "<Figure size 432x288 with 1 Axes>"
      ]
     },
     "metadata": {
      "needs_background": "light"
     },
     "output_type": "display_data"
    }
   ],
   "source": [
    "plt.figure()\n",
    "for p in preds:\n",
    "    plt.plot(p['values'],label=p['col'])\n",
    "plt.legend()\n",
    "plt.show()"
   ]
  },
  {
   "cell_type": "markdown",
   "metadata": {},
   "source": [
    "Above figure represent the change in uncertainty prediction when "
   ]
  },
  {
   "cell_type": "markdown",
   "metadata": {
    "ExecuteTime": {
     "end_time": "2021-05-27T12:09:48.474704Z",
     "start_time": "2021-05-27T12:09:48.462825Z"
    }
   },
   "source": [
    "### Quantile Regression Forest"
   ]
  },
  {
   "cell_type": "code",
   "execution_count": 21,
   "metadata": {
    "ExecuteTime": {
     "end_time": "2021-05-27T14:11:36.807780Z",
     "start_time": "2021-05-27T14:11:33.059698Z"
    },
    "scrolled": true
   },
   "outputs": [
    {
     "data": {
      "text/plain": [
       "Pipeline(steps=[('shift',\n",
       "                 DistributionShift(cols=Index(['one', 'two', 'three', 'four'], dtype='object'))),\n",
       "                ('clf', Boot(model=LinearRegression, random_seed=None))])"
      ]
     },
     "execution_count": 21,
     "metadata": {},
     "output_type": "execute_result"
    }
   ],
   "source": [
    "clf = QRF(max_leaf_nodes=8)\n",
    "shift = DistributionShift(strategy='covariateShift')\n",
    "clf = Boot(LinearRegression())\n",
    "\n",
    "pipe = Pipeline([(\"shift\", shift), (\"clf\", clf)])\n",
    "pipe.fit(X_tr, y_tr)\n",
    "\n"
   ]
  },
  {
   "cell_type": "code",
   "execution_count": 22,
   "metadata": {
    "ExecuteTime": {
     "end_time": "2021-05-27T14:11:37.191807Z",
     "start_time": "2021-05-27T14:11:36.813374Z"
    },
    "pycharm": {
     "name": "#%%\n"
    }
   },
   "outputs": [
    {
     "name": "stderr",
     "output_type": "stream",
     "text": [
      "100%|██████████| 100/100 [00:00<00:00, 412.88it/s]\n"
     ]
    },
    {
     "data": {
      "image/png": "[encoded data removed]",
      "text/plain": [
       "<Figure size 432x288 with 1 Axes>"
      ]
     },
     "metadata": {
      "needs_background": "light"
     },
     "output_type": "display_data"
    }
   ],
   "source": [
    "preds = []\n",
    "for p in tqdm(range(-50,50)):\n",
    "    pipe.set_params(shift__param=p)\n",
    "\n",
    "    preds.append(np.mean(pipe.predict(X_te)))\n",
    "plt.figure()\n",
    "plt.plot(preds)\n",
    "plt.show()"
   ]
  },
  {
   "cell_type": "markdown",
   "metadata": {},
   "source": [
    "## Concrete"
   ]
  },
  {
   "cell_type": "code",
   "execution_count": 23,
   "metadata": {
    "ExecuteTime": {
     "end_time": "2021-05-27T14:11:37.214172Z",
     "start_time": "2021-05-27T14:11:37.195245Z"
    }
   },
   "outputs": [],
   "source": [
    "from doubt.datasets import Concrete\n",
    "\n",
    "X, y = Concrete().split()"
   ]
  },
  {
   "cell_type": "code",
   "execution_count": 24,
   "metadata": {
    "ExecuteTime": {
     "end_time": "2021-05-27T14:11:37.224459Z",
     "start_time": "2021-05-27T14:11:37.216999Z"
    }
   },
   "outputs": [],
   "source": [
    "X_tr,X_te,y_tr,y_te = train_test_split(X,y)"
   ]
  },
  {
   "cell_type": "markdown",
   "metadata": {},
   "source": [
    "### Linear Regression"
   ]
  },
  {
   "cell_type": "code",
   "execution_count": 25,
   "metadata": {
    "ExecuteTime": {
     "end_time": "2021-05-27T14:11:37.348166Z",
     "start_time": "2021-05-27T14:11:37.227347Z"
    }
   },
   "outputs": [
    {
     "data": {
      "text/plain": [
       "Pipeline(steps=[('shift',\n",
       "                 DistributionShift(cols=RangeIndex(start=0, stop=8, step=1))),\n",
       "                ('clf', Boot(model=LinearRegression, random_seed=None))])"
      ]
     },
     "execution_count": 25,
     "metadata": {},
     "output_type": "execute_result"
    }
   ],
   "source": [
    "shift = DistributionShift(strategy='covariateShift')\n",
    "clf = Boot(LinearRegression())\n",
    "pipe = Pipeline([(\"shift\", shift), (\"clf\", clf)])\n",
    "pipe.fit(X_tr, y_tr)"
   ]
  },
  {
   "cell_type": "code",
   "execution_count": 26,
   "metadata": {
    "ExecuteTime": {
     "end_time": "2021-05-27T14:11:37.821383Z",
     "start_time": "2021-05-27T14:11:37.350286Z"
    }
   },
   "outputs": [
    {
     "name": "stderr",
     "output_type": "stream",
     "text": [
      "100%|██████████| 100/100 [00:00<00:00, 281.82it/s]\n"
     ]
    },
    {
     "data": {
      "image/png": "[encoded data removed]",
      "text/plain": [
       "<Figure size 432x288 with 1 Axes>"
      ]
     },
     "metadata": {
      "needs_background": "light"
     },
     "output_type": "display_data"
    }
   ],
   "source": [
    "preds = []\n",
    "for p in tqdm(range(-50,50)):\n",
    "    pipe.set_params(shift__param=p)\n",
    "    preds.append(np.mean(pipe.predict(X_te)))\n",
    "\n",
    "\n",
    "plt.figure()\n",
    "plt.plot(preds)\n",
    "plt.show()"
   ]
  },
  {
   "cell_type": "markdown",
   "metadata": {
    "ExecuteTime": {
     "end_time": "2021-05-27T12:09:48.474704Z",
     "start_time": "2021-05-27T12:09:48.462825Z"
    }
   },
   "source": [
    "### Quantile Regression Forest"
   ]
  },
  {
   "cell_type": "code",
   "execution_count": 27,
   "metadata": {
    "ExecuteTime": {
     "end_time": "2021-05-27T14:11:37.948241Z",
     "start_time": "2021-05-27T14:11:37.824069Z"
    },
    "scrolled": true
   },
   "outputs": [
    {
     "data": {
      "text/plain": [
       "Pipeline(steps=[('shift',\n",
       "                 DistributionShift(cols=RangeIndex(start=0, stop=8, step=1))),\n",
       "                ('clf', Boot(model=LinearRegression, random_seed=None))])"
      ]
     },
     "execution_count": 27,
     "metadata": {},
     "output_type": "execute_result"
    }
   ],
   "source": [
    "clf = QRF(max_leaf_nodes=8)\n",
    "shift = DistributionShift(strategy='covariateShift')\n",
    "clf = Boot(LinearRegression())\n",
    "\n",
    "pipe = Pipeline([(\"shift\", shift), (\"clf\", clf)])\n",
    "pipe.fit(X_tr, y_tr)\n",
    "\n"
   ]
  },
  {
   "cell_type": "code",
   "execution_count": 28,
   "metadata": {
    "ExecuteTime": {
     "end_time": "2021-05-27T14:11:38.397406Z",
     "start_time": "2021-05-27T14:11:37.953918Z"
    },
    "pycharm": {
     "name": "#%%\n"
    }
   },
   "outputs": [
    {
     "name": "stderr",
     "output_type": "stream",
     "text": [
      "100%|██████████| 100/100 [00:00<00:00, 305.04it/s]\n"
     ]
    },
    {
     "data": {
      "image/png": "[encoded data removed]",
      "text/plain": [
       "<Figure size 432x288 with 1 Axes>"
      ]
     },
     "metadata": {
      "needs_background": "light"
     },
     "output_type": "display_data"
    }
   ],
   "source": [
    "preds = []\n",
    "for p in tqdm(range(-50,50)):\n",
    "    pipe.set_params(shift__param=p)\n",
    "\n",
    "    preds.append(np.mean(pipe.predict(X_te)))\n",
    "plt.figure()\n",
    "plt.plot(preds)\n",
    "plt.show()"
   ]
  },
  {
   "cell_type": "code",
   "execution_count": null,
   "metadata": {},
   "outputs": [],
   "source": []
  }
 ],
 "metadata": {
  "kernelspec": {
   "display_name": "uncertainty",
   "language": "python",
   "name": "uncertainty"
  },
  "language_info": {
   "codemirror_mode": {
    "name": "ipython",
    "version": 3
   },
   "file_extension": ".py",
   "mimetype": "text/x-python",
   "name": "python",
   "nbconvert_exporter": "python",
   "pygments_lexer": "ipython3",
   "version": "3.7.10"
  }
 },
 "nbformat": 4,
 "nbformat_minor": 4
}
