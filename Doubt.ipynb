{
 "cells": [
  {
   "cell_type": "code",
   "execution_count": 1,
   "metadata": {
    "ExecuteTime": {
     "end_time": "2021-05-27T14:11:22.976876Z",
     "start_time": "2021-05-27T14:11:22.947757Z"
    }
   },
   "outputs": [
    {
     "data": {
      "application/javascript": [
       "utils.load_extension('collapsible_headings/main')\n",
       "utils.load_extension('hide_input/main')\n",
       "utils.load_extension('autosavetime/main')\n",
       "utils.load_extension('execute_time/ExecuteTime')\n",
       "utils.load_extension('code_prettify/code_prettify')\n",
       "utils.load_extension('scroll_down/main')\n",
       "utils.load_extension('jupyter-js-widgets/extension')\n"
      ],
      "text/plain": [
       "<IPython.core.display.Javascript object>"
      ]
     },
     "metadata": {},
     "output_type": "display_data"
    }
   ],
   "source": [
    "%%javascript\n",
    "utils.load_extension('collapsible_headings/main')\n",
    "utils.load_extension('hide_input/main')\n",
    "utils.load_extension('autosavetime/main')\n",
    "utils.load_extension('execute_time/ExecuteTime')\n",
    "utils.load_extension('code_prettify/code_prettify')\n",
    "utils.load_extension('scroll_down/main')\n",
    "utils.load_extension('jupyter-js-widgets/extension')"
   ]
  },
  {
   "cell_type": "code",
   "execution_count": 2,
   "metadata": {
    "ExecuteTime": {
     "end_time": "2021-05-27T14:11:24.875666Z",
     "start_time": "2021-05-27T14:11:22.980046Z"
    }
   },
   "outputs": [],
   "source": [
    "from sklearn.linear_model import LinearRegression\n",
    "from doubt import Boot\n",
    "\n",
    "from distributions import DistributionShift\n",
    "from sklearn.pipeline import Pipeline\n",
    "import numpy as np\n",
    "import pandas as pd\n",
    "from tqdm import tqdm\n",
    "from sklearn.model_selection import train_test_split\n",
    "import matplotlib.pyplot as plt\n",
    "\n",
    "from doubt.datasets import PowerPlant\n",
    "from doubt import QuantileRegressionForest as QRF"
   ]
  },
  {
   "cell_type": "markdown",
   "metadata": {},
   "source": [
    "## Power Plant"
   ]
  },
  {
   "cell_type": "code",
   "execution_count": 30,
   "metadata": {
    "ExecuteTime": {
     "end_time": "2021-05-27T14:13:45.451642Z",
     "start_time": "2021-05-27T14:13:45.425971Z"
    },
    "scrolled": true
   },
   "outputs": [],
   "source": [
    "X, y = PowerPlant().split()"
   ]
  },
  {
   "cell_type": "code",
   "execution_count": 31,
   "metadata": {
    "ExecuteTime": {
     "end_time": "2021-05-27T14:13:45.771065Z",
     "start_time": "2021-05-27T14:13:45.767309Z"
    }
   },
   "outputs": [],
   "source": [
    "X = pd.DataFrame(X,columns = ['one','two','three','four'])"
   ]
  },
  {
   "cell_type": "code",
   "execution_count": 32,
   "metadata": {
    "ExecuteTime": {
     "end_time": "2021-05-27T14:13:46.116774Z",
     "start_time": "2021-05-27T14:13:46.111228Z"
    }
   },
   "outputs": [],
   "source": [
    "X_tr,X_te,y_tr,y_te = train_test_split(X,y)"
   ]
  },
  {
   "cell_type": "markdown",
   "metadata": {},
   "source": [
    "### Linear Regression"
   ]
  },
  {
   "cell_type": "code",
   "execution_count": 34,
   "metadata": {
    "ExecuteTime": {
     "end_time": "2021-05-27T14:13:54.605057Z",
     "start_time": "2021-05-27T14:13:50.931019Z"
    }
   },
   "outputs": [
    {
     "data": {
      "text/plain": [
       "Pipeline(steps=[('shift',\n",
       "                 DistributionShift(cols=Index(['one', 'two', 'three', 'four'], dtype='object'))),\n",
       "                ('clf', Boot(model=LinearRegression, random_seed=None))])"
      ]
     },
     "execution_count": 34,
     "metadata": {},
     "output_type": "execute_result"
    }
   ],
   "source": [
    "shift = DistributionShift(strategy='covariateShift')\n",
    "clf = Boot(LinearRegression())\n",
    "pipe = Pipeline([(\"shift\", shift), (\"clf\", clf)])\n",
    "pipe.fit(X_tr, y_tr)"
   ]
  },
  {
   "cell_type": "code",
   "execution_count": 35,
   "metadata": {
    "ExecuteTime": {
     "end_time": "2021-05-27T14:13:54.840489Z",
     "start_time": "2021-05-27T14:13:54.609070Z"
    }
   },
   "outputs": [
    {
     "name": "stderr",
     "output_type": "stream",
     "text": [
      "100%|██████████| 100/100 [00:00<00:00, 443.88it/s]\n"
     ]
    }
   ],
   "source": [
    "preds = []\n",
    "for p in tqdm(range(-50,50)):\n",
    "    pipe.set_params(shift__param=p)\n",
    "\n",
    "    preds.append(np.mean(pipe.predict(X_te)))\n"
   ]
  },
  {
   "cell_type": "code",
   "execution_count": 36,
   "metadata": {
    "ExecuteTime": {
     "end_time": "2021-05-27T14:13:54.967086Z",
     "start_time": "2021-05-27T14:13:54.844389Z"
    },
    "scrolled": true
   },
   "outputs": [
    {
     "data": {
      "image/png": "[encoded data removed]",
      "text/plain": [
       "<Figure size 432x288 with 1 Axes>"
      ]
     },
     "metadata": {
      "needs_background": "light"
     },
     "output_type": "display_data"
    }
   ],
   "source": [
    "plt.figure()\n",
    "plt.plot(preds)\n",
    "plt.show()"
   ]
  },
  {
   "cell_type": "code",
   "execution_count": 51,
   "metadata": {
    "ExecuteTime": {
     "end_time": "2021-05-27T14:16:41.499590Z",
     "start_time": "2021-05-27T14:16:41.329472Z"
    }
   },
   "outputs": [],
   "source": [
    "preds = []\n",
    "for col in X_tr.columns:\n",
    "    res = []\n",
    "    for i in range(0, 50):\n",
    "        pipe.set_params(shift__param=i, shift__cols=col)\n",
    "        res.append(np.mean(pipe.predict(X_te)))\n",
    "    preds.append({\"col\": col, \"values\": res})"
   ]
  },
  {
   "cell_type": "code",
   "execution_count": 53,
   "metadata": {
    "ExecuteTime": {
     "end_time": "2021-05-27T14:16:45.600819Z",
     "start_time": "2021-05-27T14:16:45.451204Z"
    },
    "scrolled": true
   },
   "outputs": [
    {
     "data": {
      "image/png": "[encoded data removed]",
      "text/plain": [
       "<Figure size 432x288 with 1 Axes>"
      ]
     },
     "metadata": {
      "needs_background": "light"
     },
     "output_type": "display_data"
    }
   ],
   "source": [
    "plt.figure()\n",
    "for p in preds:\n",
    "    plt.plot(p['values'],label=p['col'])\n",
    "plt.legend()\n",
    "plt.show()"
   ]
  },
  {
   "cell_type": "markdown",
   "metadata": {},
   "source": [
    "Above figure represent the change in uncertainty prediction when "
   ]
  },
  {
   "cell_type": "markdown",
   "metadata": {
    "ExecuteTime": {
     "end_time": "2021-05-27T12:09:48.474704Z",
     "start_time": "2021-05-27T12:09:48.462825Z"
    }
   },
   "source": [
    "### Quantile Regression Forest"
   ]
  },
  {
   "cell_type": "code",
   "execution_count": 21,
   "metadata": {
    "ExecuteTime": {
     "end_time": "2021-05-27T14:11:36.807780Z",
     "start_time": "2021-05-27T14:11:33.059698Z"
    },
    "scrolled": true
   },
   "outputs": [
    {
     "data": {
      "text/plain": [
       "Pipeline(steps=[('shift',\n",
       "                 DistributionShift(cols=Index(['one', 'two', 'three', 'four'], dtype='object'))),\n",
       "                ('clf', Boot(model=LinearRegression, random_seed=None))])"
      ]
     },
     "execution_count": 21,
     "metadata": {},
     "output_type": "execute_result"
    }
   ],
   "source": [
    "clf = QRF(max_leaf_nodes=8)\n",
    "shift = DistributionShift(strategy='covariateShift')\n",
    "clf = Boot(LinearRegression())\n",
    "\n",
    "pipe = Pipeline([(\"shift\", shift), (\"clf\", clf)])\n",
    "pipe.fit(X_tr, y_tr)\n",
    "\n"
   ]
  },
  {
   "cell_type": "code",
   "execution_count": 22,
   "metadata": {
    "ExecuteTime": {
     "end_time": "2021-05-27T14:11:37.191807Z",
     "start_time": "2021-05-27T14:11:36.813374Z"
    },
    "pycharm": {
     "name": "#%%\n"
    }
   },
   "outputs": [
    {
     "name": "stderr",
     "output_type": "stream",
     "text": [
      "100%|██████████| 100/100 [00:00<00:00, 412.88it/s]\n"
     ]
    },
    {
     "data": {
      "image/png": "[encoded data removed]",
      "text/plain": [
       "<Figure size 432x288 with 1 Axes>"
      ]
     },
     "metadata": {
      "needs_background": "light"
     },
     "output_type": "display_data"
    }
   ],
   "source": [
    "preds = []\n",
    "for p in tqdm(range(-50,50)):\n",
    "    pipe.set_params(shift__param=p)\n",
    "\n",
    "    preds.append(np.mean(pipe.predict(X_te)))\n",
    "plt.figure()\n",
    "plt.plot(preds)\n",
    "plt.show()"
   ]
  },
  {
   "cell_type": "markdown",
   "metadata": {},
   "source": [
    "## Concrete"
   ]
  },
  {
   "cell_type": "code",
   "execution_count": 23,
   "metadata": {
    "ExecuteTime": {
     "end_time": "2021-05-27T14:11:37.214172Z",
     "start_time": "2021-05-27T14:11:37.195245Z"
    }
   },
   "outputs": [],
   "source": [
    "from doubt.datasets import Concrete\n",
    "\n",
    "X, y = Concrete().split()"
   ]
  },
  {
   "cell_type": "code",
   "execution_count": 24,
   "metadata": {
    "ExecuteTime": {
     "end_time": "2021-05-27T14:11:37.224459Z",
     "start_time": "2021-05-27T14:11:37.216999Z"
    }
   },
   "outputs": [],
   "source": [
    "X_tr,X_te,y_tr,y_te = train_test_split(X,y)"
   ]
  },
  {
   "cell_type": "markdown",
   "metadata": {},
   "source": [
    "### Linear Regression"
   ]
  },
  {
   "cell_type": "code",
   "execution_count": 25,
   "metadata": {
    "ExecuteTime": {
     "end_time": "2021-05-27T14:11:37.348166Z",
     "start_time": "2021-05-27T14:11:37.227347Z"
    }
   },
   "outputs": [
    {
     "data": {
      "text/plain": [
       "Pipeline(steps=[('shift',\n",
       "                 DistributionShift(cols=RangeIndex(start=0, stop=8, step=1))),\n",
       "                ('clf', Boot(model=LinearRegression, random_seed=None))])"
      ]
     },
     "execution_count": 25,
     "metadata": {},
     "output_type": "execute_result"
    }
   ],
   "source": [
    "shift = DistributionShift(strategy='covariateShift')\n",
    "clf = Boot(LinearRegression())\n",
    "pipe = Pipeline([(\"shift\", shift), (\"clf\", clf)])\n",
    "pipe.fit(X_tr, y_tr)"
   ]
  },
  {
   "cell_type": "code",
   "execution_count": 26,
   "metadata": {
    "ExecuteTime": {
     "end_time": "2021-05-27T14:11:37.821383Z",
     "start_time": "2021-05-27T14:11:37.350286Z"
    }
   },
   "outputs": [
    {
     "name": "stderr",
     "output_type": "stream",
     "text": [
      "100%|██████████| 100/100 [00:00<00:00, 281.82it/s]\n"
     ]
    },
    {
     "data": {
      "image/png": "[encoded data removed]",
      "text/plain": [
       "<Figure size 432x288 with 1 Axes>"
      ]
     },
     "metadata": {
      "needs_background": "light"
     },
     "output_type": "display_data"
    }
   ],
   "source": [
    "preds = []\n",
    "for p in tqdm(range(-50,50)):\n",
    "    pipe.set_params(shift__param=p)\n",
    "    preds.append(np.mean(pipe.predict(X_te)))\n",
    "\n",
    "\n",
    "plt.figure()\n",
    "plt.plot(preds)\n",
    "plt.show()"
   ]
  },
  {
   "cell_type": "markdown",
   "metadata": {
    "ExecuteTime": {
     "end_time": "2021-05-27T12:09:48.474704Z",
     "start_time": "2021-05-27T12:09:48.462825Z"
    }
   },
   "source": [
    "### Quantile Regression Forest"
   ]
  },
  {
   "cell_type": "code",
   "execution_count": 27,
   "metadata": {
    "ExecuteTime": {
     "end_time": "2021-05-27T14:11:37.948241Z",
     "start_time": "2021-05-27T14:11:37.824069Z"
    },
    "scrolled": true
   },
   "outputs": [
    {
     "data": {
      "text/plain": [
       "Pipeline(steps=[('shift',\n",
       "                 DistributionShift(cols=RangeIndex(start=0, stop=8, step=1))),\n",
       "                ('clf', Boot(model=LinearRegression, random_seed=None))])"
      ]
     },
     "execution_count": 27,
     "metadata": {},
     "output_type": "execute_result"
    }
   ],
   "source": [
    "clf = QRF(max_leaf_nodes=8)\n",
    "shift = DistributionShift(strategy='covariateShift')\n",
    "clf = Boot(LinearRegression())\n",
    "\n",
    "pipe = Pipeline([(\"shift\", shift), (\"clf\", clf)])\n",
    "pipe.fit(X_tr, y_tr)\n",
    "\n"
   ]
  },
  {
   "cell_type": "code",
   "execution_count": 28,
   "metadata": {
    "ExecuteTime": {
     "end_time": "2021-05-27T14:11:38.397406Z",
     "start_time": "2021-05-27T14:11:37.953918Z"
    },
    "pycharm": {
     "name": "#%%\n"
    }
   },
   "outputs": [
    {
     "name": "stderr",
     "output_type": "stream",
     "text": [
      "100%|██████████| 100/100 [00:00<00:00, 305.04it/s]\n"
     ]
    },
    {
     "data": {
      "image/png": "[encoded data removed]",
      "text/plain": [
       "<Figure size 432x288 with 1 Axes>"
      ]
     },
     "metadata": {
      "needs_background": "light"
     },
     "output_type": "display_data"
    }
   ],
   "source": [
    "preds = []\n",
    "for p in tqdm(range(-50,50)):\n",
    "    pipe.set_params(shift__param=p)\n",
    "\n",
    "    preds.append(np.mean(pipe.predict(X_te)))\n",
    "plt.figure()\n",
    "plt.plot(preds)\n",
    "plt.show()"
   ]
  },
  {
   "cell_type": "code",
   "execution_count": null,
   "metadata": {},
   "outputs": [],
   "source": []
  }
 ],
 "metadata": {
  "kernelspec": {
   "display_name": "uncertainty",
   "language": "python",
   "name": "uncertainty"
  },
  "language_info": {
   "codemirror_mode": {
    "name": "ipython",
    "version": 3
   },
   "file_extension": ".py",
   "mimetype": "text/x-python",
   "name": "python",
   "nbconvert_exporter": "python",
   "pygments_lexer": "ipython3",
   "version": "3.7.10"
  }
 },
 "nbformat": 4,
 "nbformat_minor": 4
}
